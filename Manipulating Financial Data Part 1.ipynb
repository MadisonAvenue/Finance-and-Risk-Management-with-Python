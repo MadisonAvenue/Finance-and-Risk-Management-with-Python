{
 "cells": [
  {
   "cell_type": "code",
   "execution_count": 3,
   "metadata": {
    "collapsed": true
   },
   "outputs": [],
   "source": [
    "import pandas as pd   \n",
    "import numpy as np\n",
    "import quandl\n",
    "import datetime\n",
    "import matplotlib.pyplot as plt   \n",
    "%matplotlib inline "
   ]
  },
  {
   "cell_type": "code",
   "execution_count": 4,
   "metadata": {},
   "outputs": [],
   "source": [
    "#pd.describe_option()"
   ]
  },
  {
   "cell_type": "markdown",
   "metadata": {},
   "source": [
    "### Notebook set up"
   ]
  },
  {
   "cell_type": "code",
   "execution_count": 5,
   "metadata": {},
   "outputs": [],
   "source": [
    "pd.set_option('display.notebook_repr_html', False)   \n",
    "pd.set_option('display.max_columns', 12)   \n",
    "pd.set_option('display.max_rows', 8)"
   ]
  },
  {
   "cell_type": "code",
   "execution_count": 6,
   "metadata": {},
   "outputs": [],
   "source": [
    "#s =quandl.get(\"CHRIS/CBOE_VX1\")\n",
    "s = pd.read_csv('CHRIS-CBOE_VX1.csv', squeeze = True, parse_dates = ['Trade Date'])"
   ]
  },
  {
   "cell_type": "code",
   "execution_count": 7,
   "metadata": {},
   "outputs": [],
   "source": [
    "del s['Prev. Day Open Interest']\n",
    "del s['EFP']\n",
    "del s['Change']"
   ]
  },
  {
   "cell_type": "code",
   "execution_count": 8,
   "metadata": {
    "collapsed": true
   },
   "outputs": [],
   "source": [
    "s.rename(columns={'Total Volume': 'Volume'}, inplace=True)"
   ]
  },
  {
   "cell_type": "code",
   "execution_count": 9,
   "metadata": {},
   "outputs": [
    {
     "data": {
      "text/plain": [
       "  Trade Date   Open   High    Low  Close  Settle  Volume\n",
       "0 2017-02-23  13.20  13.78  13.18  13.52  13.525  118392\n",
       "1 2017-02-22  13.20  13.45  13.00  13.21  13.225   99759\n",
       "2 2017-02-21  13.25  13.25  12.75  13.20  13.175  101726\n",
       "3 2017-02-17  13.00  13.38  12.95  13.25  13.125  135622\n",
       "4 2017-02-16  12.85  13.70  12.75  12.96  12.975  180398"
      ]
     },
     "execution_count": 9,
     "metadata": {},
     "output_type": "execute_result"
    }
   ],
   "source": [
    "s.head()"
   ]
  },
  {
   "cell_type": "markdown",
   "metadata": {},
   "source": [
    "#### Scalar lookup by label or location using .at[]  and .iat[] Scalar values can be looked up by label using .at[] by passing the row label and then the column name/value:\n"
   ]
  },
  {
   "cell_type": "code",
   "execution_count": 10,
   "metadata": {},
   "outputs": [
    {
     "data": {
      "text/plain": [
       "13.025"
      ]
     },
     "execution_count": 10,
     "metadata": {},
     "output_type": "execute_result"
    }
   ],
   "source": [
    "s.at[50,'Settle']    # [int. str]"
   ]
  },
  {
   "cell_type": "code",
   "execution_count": 11,
   "metadata": {},
   "outputs": [
    {
     "data": {
      "text/plain": [
       "13.025"
      ]
     },
     "execution_count": 11,
     "metadata": {},
     "output_type": "execute_result"
    }
   ],
   "source": [
    "s.iat[50,5]    #[int, int]  row index , column number"
   ]
  },
  {
   "cell_type": "code",
   "execution_count": 12,
   "metadata": {},
   "outputs": [
    {
     "data": {
      "text/plain": [
       "0       False\n",
       "1       False\n",
       "2       False\n",
       "3       False\n",
       "        ...  \n",
       "2937     True\n",
       "2938     True\n",
       "2939     True\n",
       "2940     True\n",
       "Name: Volume, dtype: bool"
      ]
     },
     "execution_count": 12,
     "metadata": {},
     "output_type": "execute_result"
    }
   ],
   "source": [
    "s.Volume < 10000 "
   ]
  },
  {
   "cell_type": "code",
   "execution_count": 13,
   "metadata": {},
   "outputs": [
    {
     "data": {
      "text/plain": [
       "      Settle\n",
       "6     11.175\n",
       "7     11.425\n",
       "8     11.725\n",
       "43    11.575\n",
       "...      ...\n",
       "666   11.950\n",
       "676   11.740\n",
       "2482  11.870\n",
       "2483  11.670\n",
       "\n",
       "[10 rows x 1 columns]"
      ]
     },
     "execution_count": 13,
     "metadata": {},
     "output_type": "execute_result"
    }
   ],
   "source": [
    "s[(s.Settle < 12) & (s.Settle > 0)][['Settle']]"
   ]
  },
  {
   "cell_type": "markdown",
   "metadata": {},
   "source": [
    "### Loading  Historical Data"
   ]
  },
  {
   "cell_type": "code",
   "execution_count": 15,
   "metadata": {},
   "outputs": [],
   "source": [
    "from pandas_datareader import data, wb\n",
    "\n",
    "#import pandas.io.data as web\n",
    "\n",
    "start = datetime.datetime(2013, 4, 1)   \n",
    "\n",
    "end = datetime.datetime(2013, 9, 30)\n",
    "\n",
    "msft = web.DataReader(\"MSFT\", 'yahoo', start, end)   \n",
    "\n",
    "aapl = web.DataReader(\"AAPL\", 'yahoo', start, end)"
   ]
  },
  {
   "cell_type": "code",
   "execution_count": 16,
   "metadata": {
    "collapsed": true
   },
   "outputs": [],
   "source": [
    "#msft.to_csv(\"msft.csv\")   \n",
    "#aapl.to_csv(\"msft.csv\") "
   ]
  },
  {
   "cell_type": "markdown",
   "metadata": {},
   "source": [
    "### Reading saved files back to the Notebook"
   ]
  },
  {
   "cell_type": "code",
   "execution_count": 17,
   "metadata": {
    "collapsed": true
   },
   "outputs": [],
   "source": [
    "msft = pd.read_csv(\"msft.csv\", index_col=0, parse_dates=True)   \n",
    "aapl = pd.read_csv(\"aapl.csv\", index_col=0, parse_dates=True) "
   ]
  },
  {
   "cell_type": "code",
   "execution_count": 20,
   "metadata": {},
   "outputs": [
    {
     "data": {
      "text/plain": [
       "                 Open       High        Low      Close    Volume  Adj Close\n",
       "Date                                                                       \n",
       "2013-04-01  28.639999  28.660000  28.360001  28.610001  29201100  25.666909\n",
       "2013-04-02  28.590000  28.850000  28.520000  28.799999  28456500  25.837363\n",
       "2013-04-03  28.750000  28.950001  28.540001  28.559999  35062800  25.622051\n",
       "2013-04-04  28.389999  28.610001  28.270000  28.600000  45263200  25.657937\n",
       "2013-04-05  28.219999  28.780001  28.110001  28.700001  50927300  25.747651\n",
       "2013-04-08  28.730000  28.730000  28.469999  28.590000  34759500  25.648966"
      ]
     },
     "execution_count": 20,
     "metadata": {},
     "output_type": "execute_result"
    }
   ],
   "source": [
    "msft[:6]"
   ]
  },
  {
   "cell_type": "markdown",
   "metadata": {},
   "source": [
    "## join, concatenate, merge  DataFrames"
   ]
  },
  {
   "cell_type": "code",
   "execution_count": 21,
   "metadata": {},
   "outputs": [
    {
     "data": {
      "text/plain": [
       "                  Open        High         Low       Close     Volume  \\\n",
       "Date                                                                    \n",
       "2013-04-01   28.639999   28.660000   28.360001   28.610001   29201100   \n",
       "2013-04-02   28.590000   28.850000   28.520000   28.799999   28456500   \n",
       "2013-04-03   28.750000   28.950001   28.540001   28.559999   35062800   \n",
       "2013-04-01  441.899994  443.700008  427.739990  428.910004   97433000   \n",
       "2013-04-02  427.599987  438.139988  426.400013  429.789997  132379800   \n",
       "2013-04-03  431.370007  437.279995  430.310009  431.989994   90804000   \n",
       "\n",
       "            Adj Close  \n",
       "Date                   \n",
       "2013-04-01  25.666909  \n",
       "2013-04-02  25.837363  \n",
       "2013-04-03  25.622051  \n",
       "2013-04-01  56.389605  \n",
       "2013-04-02  56.505299  \n",
       "2013-04-03  56.794537  "
      ]
     },
     "execution_count": 21,
     "metadata": {},
     "output_type": "execute_result"
    }
   ],
   "source": [
    "glue_them_both = pd.concat([msft.head(3), aapl.head(3)])\n",
    "glue_them_both"
   ]
  },
  {
   "cell_type": "code",
   "execution_count": 22,
   "metadata": {
    "collapsed": true
   },
   "outputs": [],
   "source": [
    "aaplA01 = aapl['2013-05'][['Adj Close']]\n",
    "msftA01 = msft['2013-04'][['Adj Close']]"
   ]
  },
  {
   "cell_type": "code",
   "execution_count": 23,
   "metadata": {},
   "outputs": [
    {
     "data": {
      "text/plain": [
       "            Adj Close\n",
       "Date                 \n",
       "2013-05-01  57.754283\n",
       "2013-05-02  58.573352\n",
       "2013-05-03  59.159719\n",
       "2013-05-06  60.570408\n",
       "...               ...\n",
       "2013-04-04  25.657937\n",
       "2013-04-05  25.747651\n",
       "2013-04-08  25.648966\n",
       "2013-04-09  26.564040\n",
       "\n",
       "[14 rows x 1 columns]"
      ]
     },
     "execution_count": 23,
     "metadata": {},
     "output_type": "execute_result"
    }
   ],
   "source": [
    "pd.concat([aaplA01.head(7), msftA01[0:7]])"
   ]
  },
  {
   "cell_type": "code",
   "execution_count": 24,
   "metadata": {
    "collapsed": true
   },
   "outputs": [],
   "source": [
    "# Making a MultiIndex with search by keys\n",
    "closes = pd.concat([msftA01, aaplA01],  keys=[5, 10])"
   ]
  },
  {
   "cell_type": "code",
   "execution_count": 25,
   "metadata": {},
   "outputs": [
    {
     "data": {
      "text/plain": [
       "               Adj Close\n",
       "   Date                 \n",
       "5  2013-04-01  25.666909\n",
       "   2013-04-02  25.837363\n",
       "   2013-04-03  25.622051\n",
       "   2013-04-04  25.657937\n",
       "...                  ...\n",
       "10 2013-05-28  58.421094\n",
       "   2013-05-29  58.885613\n",
       "   2013-05-30  59.763042\n",
       "   2013-05-31  59.518212\n",
       "\n",
       "[44 rows x 1 columns]"
      ]
     },
     "execution_count": 25,
     "metadata": {},
     "output_type": "execute_result"
    }
   ],
   "source": [
    "closes"
   ]
  },
  {
   "cell_type": "code",
   "execution_count": 26,
   "metadata": {},
   "outputs": [
    {
     "data": {
      "text/plain": [
       "            Adj Close    Volume\n",
       "Date                           \n",
       "2013-04-01  25.666909  29201100\n",
       "2013-04-02  25.837363  28456500\n",
       "2013-04-03  25.622051  35062800\n",
       "2013-04-04  25.657937  45263200\n",
       "...               ...       ...\n",
       "2013-09-25  29.577193  28907500\n",
       "2013-09-26  29.813740  28504000\n",
       "2013-09-27  30.268634  55348000\n",
       "2013-09-30  30.277730  39839500\n",
       "\n",
       "[256 rows x 2 columns]"
      ]
     },
     "execution_count": 26,
     "metadata": {},
     "output_type": "execute_result"
    }
   ],
   "source": [
    "msftAV = msft[['Adj Close', 'Volume']]   \n",
    "aaplAV = msft[['Adj Close', 'Volume']]  \n",
    "pd.concat([msftAV, aaplAV])"
   ]
  },
  {
   "cell_type": "code",
   "execution_count": 27,
   "metadata": {},
   "outputs": [
    {
     "data": {
      "text/plain": [
       "            Adj Close    Volume\n",
       "Date                           \n",
       "2013-04-01  25.666909  29201100\n",
       "2013-04-02  25.837363  28456500\n",
       "2013-04-03  25.622051  35062800\n",
       "2013-04-04  25.657937  45263200\n",
       "...               ...       ...\n",
       "2013-09-25  29.577193  28907500\n",
       "2013-09-26  29.813740  28504000\n",
       "2013-09-27  30.268634  55348000\n",
       "2013-09-30  30.277730  39839500\n",
       "\n",
       "[256 rows x 2 columns]"
      ]
     },
     "execution_count": 27,
     "metadata": {},
     "output_type": "execute_result"
    }
   ],
   "source": [
    "pd.concat([msftAV, aaplAV], join='inner')"
   ]
  },
  {
   "cell_type": "code",
   "execution_count": 28,
   "metadata": {},
   "outputs": [
    {
     "data": {
      "text/plain": [
       "   Adj Close    Volume\n",
       "0  25.666909  29201100\n",
       "1  25.837363  28456500\n",
       "2  25.622051  35062800\n",
       "3  25.666909  29201100\n",
       "4  25.837363  28456500\n",
       "5  25.622051  35062800"
      ]
     },
     "execution_count": 28,
     "metadata": {},
     "output_type": "execute_result"
    }
   ],
   "source": [
    "# Making a new index insted of an old one with ignore_index = True\n",
    "pd.concat([msftAV[:3], aaplAV[:3]], ignore_index=True)"
   ]
  },
  {
   "cell_type": "code",
   "execution_count": 27,
   "metadata": {},
   "outputs": [
    {
     "data": {
      "text/plain": [
       "     Adj Close    Volume\n",
       "0    25.666909  29201100\n",
       "1    25.837363  28456500\n",
       "2    25.622051  35062800\n",
       "3    25.657937  45263200\n",
       "..         ...       ...\n",
       "124  29.577193  28907500\n",
       "125  29.813740  28504000\n",
       "126  30.268634  55348000\n",
       "127  30.277730  39839500\n",
       "\n",
       "[128 rows x 2 columns]"
      ]
     },
     "execution_count": 27,
     "metadata": {},
     "output_type": "execute_result"
    }
   ],
   "source": [
    "mask = pd.merge(msftAV, aaplAV) \n",
    "mask"
   ]
  },
  {
   "cell_type": "markdown",
   "metadata": {},
   "source": [
    "\n",
    "## Pivoting\n",
    "####  The following command creates a DataFrame with this schema and populates the records:\n"
   ]
  },
  {
   "cell_type": "code",
   "execution_count": 29,
   "metadata": {},
   "outputs": [],
   "source": [
    "msft.insert(0, 'Symbol', 'MSFT')\n",
    "aapl.insert(0, 'Symbol', 'AAPL')"
   ]
  },
  {
   "cell_type": "code",
   "execution_count": 30,
   "metadata": {},
   "outputs": [],
   "source": [
    "combined = pd.concat([msft, aapl]).sort_index()\n",
    "p = combined.reset_index()"
   ]
  },
  {
   "cell_type": "code",
   "execution_count": 31,
   "metadata": {},
   "outputs": [
    {
     "data": {
      "text/plain": [
       "        Date Symbol        Open        High         Low       Close  \\\n",
       "0 2013-04-01   MSFT   28.639999   28.660000   28.360001   28.610001   \n",
       "1 2013-04-01   AAPL  441.899994  443.700008  427.739990  428.910004   \n",
       "2 2013-04-02   AAPL  427.599987  438.139988  426.400013  429.789997   \n",
       "3 2013-04-02   MSFT   28.590000   28.850000   28.520000   28.799999   \n",
       "4 2013-04-03   MSFT   28.750000   28.950001   28.540001   28.559999   \n",
       "\n",
       "      Volume  Adj Close  \n",
       "0   29201100  25.666909  \n",
       "1   97433000  56.389605  \n",
       "2  132379800  56.505299  \n",
       "3   28456500  25.837363  \n",
       "4   35062800  25.622051  "
      ]
     },
     "execution_count": 31,
     "metadata": {},
     "output_type": "execute_result"
    }
   ],
   "source": [
    "p.head()"
   ]
  },
  {
   "cell_type": "code",
   "execution_count": 32,
   "metadata": {},
   "outputs": [
    {
     "data": {
      "text/plain": [
       "Symbol           AAPL       MSFT\n",
       "Date                            \n",
       "2013-04-01  56.389605  25.666909\n",
       "2013-04-02  56.505299  25.837363\n",
       "2013-04-03  56.794537  25.622051\n",
       "2013-04-04  56.233152  25.657937\n",
       "...               ...        ...\n",
       "2013-09-25  64.147455  29.577193\n",
       "2013-09-26  64.772236  29.813740\n",
       "2013-09-27  64.309979  30.268634\n",
       "2013-09-30  63.510679  30.277730\n",
       "\n",
       "[128 rows x 2 columns]"
      ]
     },
     "execution_count": 32,
     "metadata": {},
     "output_type": "execute_result"
    }
   ],
   "source": [
    "closes = p.pivot(index='Date', columns='Symbol', values='Adj Close') \n",
    "closes"
   ]
  },
  {
   "cell_type": "code",
   "execution_count": 33,
   "metadata": {},
   "outputs": [
    {
     "data": {
      "text/plain": [
       "Date        Symbol\n",
       "2013-04-01  AAPL      56.389605\n",
       "            MSFT      25.666909\n",
       "2013-04-02  AAPL      56.505299\n",
       "            MSFT      25.837363\n",
       "                        ...    \n",
       "2013-09-27  AAPL      64.309979\n",
       "            MSFT      30.268634\n",
       "2013-09-30  AAPL      63.510679\n",
       "            MSFT      30.277730\n",
       "dtype: float64"
      ]
     },
     "execution_count": 33,
     "metadata": {},
     "output_type": "execute_result"
    }
   ],
   "source": [
    "closes.stack()"
   ]
  },
  {
   "cell_type": "code",
   "execution_count": 34,
   "metadata": {},
   "outputs": [
    {
     "data": {
      "text/plain": [
       "Symbol  Date      \n",
       "AAPL    2013-04-01    56.389605\n",
       "        2013-04-02    56.505299\n",
       "        2013-04-03    56.794537\n",
       "        2013-04-04    56.233152\n",
       "                        ...    \n",
       "MSFT    2013-09-25    29.577193\n",
       "        2013-09-26    29.813740\n",
       "        2013-09-27    30.268634\n",
       "        2013-09-30    30.277730\n",
       "dtype: float64"
      ]
     },
     "execution_count": 34,
     "metadata": {},
     "output_type": "execute_result"
    }
   ],
   "source": [
    "closes.unstack()"
   ]
  },
  {
   "cell_type": "markdown",
   "metadata": {},
   "source": [
    "#### Melting is the process of transforming a DataFrame into a format where each row represents a unique id-variable combination. "
   ]
  },
  {
   "cell_type": "code",
   "execution_count": 35,
   "metadata": {},
   "outputs": [
    {
     "data": {
      "text/plain": [
       "        Date Symbol variable       value\n",
       "0 2013-04-01   MSFT     Open   28.639999\n",
       "1 2013-04-01   AAPL     Open  441.899994\n",
       "2 2013-04-02   AAPL     Open  427.599987\n",
       "3 2013-04-02   MSFT     Open   28.590000\n",
       "4 2013-04-03   MSFT     Open   28.750000"
      ]
     },
     "execution_count": 35,
     "metadata": {},
     "output_type": "execute_result"
    }
   ],
   "source": [
    "melted = pd.melt(p, id_vars=['Date', 'Symbol'])   \n",
    "melted[:5]"
   ]
  },
  {
   "cell_type": "code",
   "execution_count": 36,
   "metadata": {},
   "outputs": [
    {
     "data": {
      "text/plain": [
       "           Date Symbol   variable            value\n",
       "4    2013-04-03   MSFT       Open        28.750000\n",
       "260  2013-04-03   MSFT       High        28.950001\n",
       "516  2013-04-03   MSFT        Low        28.540001\n",
       "772  2013-04-03   MSFT      Close        28.559999\n",
       "1028 2013-04-03   MSFT     Volume  35062800.000000\n",
       "1284 2013-04-03   MSFT  Adj Close        25.622051"
      ]
     },
     "execution_count": 36,
     "metadata": {},
     "output_type": "execute_result"
    }
   ],
   "source": [
    "melted[(melted.Date=='2013-04-03') & (melted.Symbol=='MSFT')]"
   ]
  },
  {
   "cell_type": "code",
   "execution_count": 37,
   "metadata": {},
   "outputs": [],
   "source": [
    "s4g = combined[['Symbol', 'Adj Close']].reset_index() \n",
    "s4g.insert(1, 'Year', pd.DatetimeIndex(s4g['Date']).year)"
   ]
  },
  {
   "cell_type": "code",
   "execution_count": 38,
   "metadata": {
    "collapsed": true
   },
   "outputs": [],
   "source": [
    "s4g.insert(2, 'Month',pd.DatetimeIndex(s4g['Date']).month) "
   ]
  },
  {
   "cell_type": "code",
   "execution_count": 39,
   "metadata": {},
   "outputs": [
    {
     "data": {
      "text/plain": [
       "        Date  Year  Month Symbol  Adj Close\n",
       "0 2013-04-01  2013      4   MSFT  25.666909\n",
       "1 2013-04-01  2013      4   AAPL  56.389605\n",
       "2 2013-04-02  2013      4   AAPL  56.505299\n",
       "3 2013-04-02  2013      4   MSFT  25.837363\n",
       "4 2013-04-03  2013      4   MSFT  25.622051"
      ]
     },
     "execution_count": 39,
     "metadata": {},
     "output_type": "execute_result"
    }
   ],
   "source": [
    "s4g.head()"
   ]
  },
  {
   "cell_type": "code",
   "execution_count": 40,
   "metadata": {},
   "outputs": [
    {
     "data": {
      "text/plain": [
       "  Symbol  Year  Month  Adj Close\n",
       "0   AAPL  2013      4  55.187294\n",
       "1   AAPL  2013      5  58.976977\n",
       "2   AAPL  2013      6  56.316589\n",
       "3   AAPL  2013      7  56.795571\n",
       "4   AAPL  2013      8  64.496779"
      ]
     },
     "execution_count": 40,
     "metadata": {},
     "output_type": "execute_result"
    }
   ],
   "source": [
    "s4g.groupby(['Symbol', 'Year', 'Month'],as_index=False).agg(np.mean)[:5]\n"
   ]
  },
  {
   "cell_type": "code",
   "execution_count": 41,
   "metadata": {},
   "outputs": [
    {
     "data": {
      "text/plain": [
       "PeriodIndex(['2013-01-01', '2013-01-02', '2013-01-03', '2013-01-04',\n",
       "             '2013-01-05', '2013-01-06', '2013-01-07', '2013-01-08',\n",
       "             '2013-01-09', '2013-01-10',\n",
       "             ...\n",
       "             '2014-12-22', '2014-12-23', '2014-12-24', '2014-12-25',\n",
       "             '2014-12-26', '2014-12-27', '2014-12-28', '2014-12-29',\n",
       "             '2014-12-30', '2014-12-31'],\n",
       "            dtype='int64', length=730, freq='D')"
      ]
     },
     "execution_count": 41,
     "metadata": {},
     "output_type": "execute_result"
    }
   ],
   "source": [
    "#DateTime range with freq day; can be 'M', 'A' year\n",
    "mp = pd.period_range('1/1/2013', '12/31/2014', freq='D') \n",
    "mp"
   ]
  },
  {
   "cell_type": "markdown",
   "metadata": {},
   "source": [
    "#### The following command shifts the adjusted closing prices forward by 1 day:"
   ]
  },
  {
   "cell_type": "code",
   "execution_count": 42,
   "metadata": {},
   "outputs": [
    {
     "data": {
      "text/plain": [
       "PeriodIndex(['2013-01-02', '2013-01-03', '2013-01-04', '2013-01-05',\n",
       "             '2013-01-06', '2013-01-07', '2013-01-08', '2013-01-09',\n",
       "             '2013-01-10', '2013-01-11',\n",
       "             ...\n",
       "             '2014-12-23', '2014-12-24', '2014-12-25', '2014-12-26',\n",
       "             '2014-12-27', '2014-12-28', '2014-12-29', '2014-12-30',\n",
       "             '2014-12-31', '2015-01-01'],\n",
       "            dtype='int64', length=730, freq='D')"
      ]
     },
     "execution_count": 42,
     "metadata": {},
     "output_type": "execute_result"
    }
   ],
   "source": [
    "mp.shift(1)"
   ]
  },
  {
   "cell_type": "code",
   "execution_count": 43,
   "metadata": {},
   "outputs": [
    {
     "data": {
      "text/plain": [
       "PeriodIndex(['2012-12-30', '2012-12-31', '2013-01-01', '2013-01-02',\n",
       "             '2013-01-03', '2013-01-04', '2013-01-05', '2013-01-06',\n",
       "             '2013-01-07', '2013-01-08'],\n",
       "            dtype='int64', freq='D')"
      ]
     },
     "execution_count": 43,
     "metadata": {},
     "output_type": "execute_result"
    }
   ],
   "source": [
    "shifted_backwards = mp.shift(-2)[:10] \n",
    "shifted_backwards"
   ]
  },
  {
   "cell_type": "markdown",
   "metadata": {},
   "source": [
    "### the calculation of daily percentage changes from the previous day"
   ]
  },
  {
   "cell_type": "code",
   "execution_count": 44,
   "metadata": {},
   "outputs": [
    {
     "data": {
      "text/plain": [
       "Date\n",
       "2013-04-02    0.006641\n",
       "2013-04-03   -0.008333\n",
       "2013-04-04    0.001401\n",
       "2013-04-05    0.003497\n",
       "                ...   \n",
       "2013-09-25    0.001849\n",
       "2013-09-26    0.007998\n",
       "2013-09-27    0.015258\n",
       "2013-09-30    0.000301\n",
       "Name: Adj Close, dtype: float64"
      ]
     },
     "execution_count": 44,
     "metadata": {},
     "output_type": "execute_result"
    }
   ],
   "source": [
    "pct_cng= msft['Adj Close']  / msft['Adj Close'].shift(1)-1\n",
    "pct_cng.dropna()"
   ]
  },
  {
   "cell_type": "code",
   "execution_count": 45,
   "metadata": {},
   "outputs": [
    {
     "data": {
      "text/plain": [
       "Date\n",
       "2013-04-02    0.006641\n",
       "2013-04-03   -0.008333\n",
       "2013-04-04    0.001401\n",
       "2013-04-05    0.003497\n",
       "                ...   \n",
       "2013-09-25    0.001849\n",
       "2013-09-26    0.007998\n",
       "2013-09-27    0.015258\n",
       "2013-09-30    0.000301\n",
       "Name: Adj Close, dtype: float64"
      ]
     },
     "execution_count": 45,
     "metadata": {},
     "output_type": "execute_result"
    }
   ],
   "source": [
    "msft['Adj Close'].pct_change().dropna()"
   ]
  },
  {
   "cell_type": "code",
   "execution_count": 46,
   "metadata": {},
   "outputs": [
    {
     "data": {
      "text/plain": [
       "Date\n",
       "2013-04-01         NaN\n",
       "2013-04-02    1.006641\n",
       "2013-04-03    0.998252\n",
       "2013-04-04    0.999650\n",
       "                ...   \n",
       "2013-09-25    1.152347\n",
       "2013-09-26    1.161563\n",
       "2013-09-27    1.179286\n",
       "2013-09-30    1.179641\n",
       "Name: Adj Close, dtype: float64"
      ]
     },
     "execution_count": 46,
     "metadata": {},
     "output_type": "execute_result"
    }
   ],
   "source": [
    "msft_cum_ret = (1 + (msft['Adj Close'] / msft['Adj Close'].shift(1)-1)).cumprod() \n",
    "msft_cum_ret"
   ]
  },
  {
   "cell_type": "code",
   "execution_count": 47,
   "metadata": {
    "collapsed": true
   },
   "outputs": [],
   "source": [
    "#Resampling can be either downsampling, where data is converted to wider frequency ranges (such as downsampling from day-to-day to month-to-month) \n",
    "#or upsampling, where data is converted to narrower time ranges. \n",
    "#Data for the associated labels are then calculated by a function provided to pandas instead  of simple filling"
   ]
  },
  {
   "cell_type": "code",
   "execution_count": 48,
   "metadata": {},
   "outputs": [
    {
     "data": {
      "text/plain": [
       "Date\n",
       "2013-04-07    1.001922\n",
       "2013-04-14    1.022090\n",
       "2013-04-21    1.013981\n",
       "2013-04-28    1.096959\n",
       "                ...   \n",
       "2013-09-15    1.152064\n",
       "2013-09-22    1.173119\n",
       "2013-09-29    1.160783\n",
       "2013-10-06    1.179641\n",
       "Freq: W-SUN, Name: Adj Close, dtype: float64"
      ]
     },
     "execution_count": 48,
     "metadata": {},
     "output_type": "execute_result"
    }
   ],
   "source": [
    "msft_monthly_cum_ret = msft_cum_ret.resample(\"W\")\n",
    "msft_monthly_cum_ret"
   ]
  },
  {
   "cell_type": "code",
   "execution_count": 49,
   "metadata": {},
   "outputs": [
    {
     "data": {
      "text/plain": [
       "Date\n",
       "2013-04-30    0.052469\n",
       "2013-05-31    0.033876\n",
       "2013-06-30    0.023484\n",
       "2013-07-31    0.062526\n",
       "2013-08-31    0.033603\n",
       "2013-09-30    0.026043\n",
       "Freq: M, Name: Adj Close, dtype: float64"
      ]
     },
     "execution_count": 49,
     "metadata": {},
     "output_type": "execute_result"
    }
   ],
   "source": [
    "msft_cum_ret.resample(\"M\", how=\"std\")"
   ]
  },
  {
   "cell_type": "code",
   "execution_count": 50,
   "metadata": {},
   "outputs": [
    {
     "data": {
      "text/plain": [
       "                open      high       low     close\n",
       "Date                                              \n",
       "2013-04-30  1.006641  1.156938  0.998252  1.156938\n",
       "2013-05-31  1.143656  1.234743  1.141559  1.228407\n",
       "2013-06-30  1.252694  1.255509  1.171034  1.215736\n",
       "2013-07-31  1.209400  1.276628  1.104862  1.120701\n",
       "2013-08-31  1.114718  1.231746  1.111550  1.183894\n",
       "2013-09-30  1.130016  1.192401  1.104141  1.179641"
      ]
     },
     "execution_count": 50,
     "metadata": {},
     "output_type": "execute_result"
    }
   ],
   "source": [
    " msft_cum_ret.resample(\"M\", how=\"ohlc\")"
   ]
  },
  {
   "cell_type": "code",
   "execution_count": 51,
   "metadata": {},
   "outputs": [],
   "source": [
    "sample = msft_cum_ret[1:3] "
   ]
  },
  {
   "cell_type": "code",
   "execution_count": 52,
   "metadata": {
    "collapsed": true
   },
   "outputs": [],
   "source": [
    "by_hour = sample.resample(\"H\")"
   ]
  },
  {
   "cell_type": "code",
   "execution_count": 53,
   "metadata": {},
   "outputs": [
    {
     "data": {
      "text/plain": [
       "Date\n",
       "2013-04-02 00:00:00    1.006641\n",
       "2013-04-02 01:00:00         NaN\n",
       "2013-04-02 02:00:00         NaN\n",
       "2013-04-02 03:00:00         NaN\n",
       "                         ...   \n",
       "2013-04-02 21:00:00         NaN\n",
       "2013-04-02 22:00:00         NaN\n",
       "2013-04-02 23:00:00         NaN\n",
       "2013-04-03 00:00:00    0.998252\n",
       "Freq: H, Name: Adj Close, dtype: float64"
      ]
     },
     "execution_count": 53,
     "metadata": {},
     "output_type": "execute_result"
    }
   ],
   "source": [
    "by_hour"
   ]
  },
  {
   "cell_type": "code",
   "execution_count": 54,
   "metadata": {},
   "outputs": [
    {
     "data": {
      "text/plain": [
       "Date\n",
       "2013-04-02 00:00:00    1.006641\n",
       "2013-04-02 01:00:00    1.006291\n",
       "2013-04-02 02:00:00    1.005942\n",
       "2013-04-02 03:00:00    1.005592\n",
       "                         ...   \n",
       "2013-04-02 21:00:00    0.999301\n",
       "2013-04-02 22:00:00    0.998951\n",
       "2013-04-02 23:00:00    0.998602\n",
       "2013-04-03 00:00:00    0.998252\n",
       "Freq: H, Name: Adj Close, dtype: float64"
      ]
     },
     "execution_count": 54,
     "metadata": {},
     "output_type": "execute_result"
    }
   ],
   "source": [
    "# use Method .interpolate()   to shift and fii in NaN\n",
    "by_hour.interpolate()"
   ]
  },
  {
   "cell_type": "code",
   "execution_count": null,
   "metadata": {
    "collapsed": true
   },
   "outputs": [],
   "source": []
  }
 ],
 "metadata": {
  "kernelspec": {
   "display_name": "Python 3",
   "language": "python",
   "name": "python3"
  },
  "language_info": {
   "codemirror_mode": {
    "name": "ipython",
    "version": 3
   },
   "file_extension": ".py",
   "mimetype": "text/x-python",
   "name": "python",
   "nbconvert_exporter": "python",
   "pygments_lexer": "ipython3",
   "version": "3.6.3"
  }
 },
 "nbformat": 4,
 "nbformat_minor": 1
}
