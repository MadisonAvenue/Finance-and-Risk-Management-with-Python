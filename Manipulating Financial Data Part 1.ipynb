{
 "cells": [
  {
   "cell_type": "code",
   "execution_count": 22,
   "metadata": {},
   "outputs": [],
   "source": [
    "import pandas as pd   \n",
    "import numpy as np\n",
    "import quandl\n",
    "import datetime\n",
    "from pandas_datareader import data\n",
    "import matplotlib.pyplot as plt   \n",
    "%matplotlib inline "
   ]
  },
  {
   "cell_type": "code",
   "execution_count": 2,
   "metadata": {},
   "outputs": [],
   "source": [
    "#pd.describe_option()"
   ]
  },
  {
   "cell_type": "markdown",
   "metadata": {},
   "source": [
    "### Notebook set up"
   ]
  },
  {
   "cell_type": "code",
   "execution_count": 3,
   "metadata": {},
   "outputs": [],
   "source": [
    "pd.set_option('display.notebook_repr_html', False)   \n",
    "pd.set_option('display.max_columns', 12)   \n",
    "pd.set_option('display.max_rows', 8)"
   ]
  },
  {
   "cell_type": "code",
   "execution_count": 13,
   "metadata": {},
   "outputs": [
    {
     "data": {
      "text/plain": [
       "     Trade Date   Open    High     Low   Close   Settle  Change  Total Volume  \\\n",
       "0    2005-06-20  148.3  148.30  148.30  148.30  148.300   148.3           0.0   \n",
       "1    2005-06-21  149.0  149.00  149.00  149.00  149.100     0.8          50.0   \n",
       "2    2005-06-22  148.4  148.40  148.40  148.40  148.600    -0.5          10.0   \n",
       "3    2005-06-23  149.8  150.50  149.10  150.50  151.200     2.6          61.0   \n",
       "...         ...    ...     ...     ...     ...      ...     ...           ...   \n",
       "3202 2018-03-15   17.3   17.76   16.25   16.70   16.775    -0.6       70169.0   \n",
       "3203 2018-03-16   16.7   17.05   15.50   16.25   16.275    -0.5       71576.0   \n",
       "3204 2018-03-19   16.3   20.20   16.21   18.30   18.175     1.9      148754.0   \n",
       "3205 2018-03-20    0.0    0.00    0.00    0.00    0.000     0.0           0.0   \n",
       "\n",
       "        EFP  Prev. Day Open Interest  \n",
       "0       0.0                      0.0  \n",
       "1       0.0                     50.0  \n",
       "2       0.0                     60.0  \n",
       "3       0.0                    121.0  \n",
       "...     ...                      ...  \n",
       "3202  585.0                  84526.0  \n",
       "3203    0.0                  77243.0  \n",
       "3204    0.0                  67623.0  \n",
       "3205    0.0                      0.0  \n",
       "\n",
       "[3206 rows x 10 columns]"
      ]
     },
     "execution_count": 13,
     "metadata": {},
     "output_type": "execute_result"
    }
   ],
   "source": [
    "#s =quandl.get(\"CHRIS/CBOE_VX1\")\n",
    "s = pd.read_csv('CHRIS-CBOE_VX1.csv', squeeze = True, parse_dates = ['Trade Date'])\n",
    "s"
   ]
  },
  {
   "cell_type": "code",
   "execution_count": 14,
   "metadata": {},
   "outputs": [],
   "source": [
    "del s['Prev. Day Open Interest']\n",
    "del s['EFP']\n",
    "del s['Change']"
   ]
  },
  {
   "cell_type": "code",
   "execution_count": 15,
   "metadata": {},
   "outputs": [],
   "source": [
    "s.rename(columns={'Total Volume': 'Volume'}, inplace=True)"
   ]
  },
  {
   "cell_type": "code",
   "execution_count": 16,
   "metadata": {},
   "outputs": [
    {
     "data": {
      "text/plain": [
       "  Trade Date   Open   High    Low  Close  Settle  Volume\n",
       "0 2005-06-20  148.3  148.3  148.3  148.3   148.3     0.0\n",
       "1 2005-06-21  149.0  149.0  149.0  149.0   149.1    50.0\n",
       "2 2005-06-22  148.4  148.4  148.4  148.4   148.6    10.0\n",
       "3 2005-06-23  149.8  150.5  149.1  150.5   151.2    61.0\n",
       "4 2005-06-24  150.9  152.0  150.5  152.0   152.7     9.0"
      ]
     },
     "execution_count": 16,
     "metadata": {},
     "output_type": "execute_result"
    }
   ],
   "source": [
    "s.head()"
   ]
  },
  {
   "cell_type": "markdown",
   "metadata": {},
   "source": [
    "#### Scalar lookup by label or location using .at[]  and .iat[] Scalar values can be looked up by label using .at[] by passing the row label and then the column name/value:\n"
   ]
  },
  {
   "cell_type": "code",
   "execution_count": 17,
   "metadata": {},
   "outputs": [
    {
     "data": {
      "text/plain": [
       "143.0"
      ]
     },
     "execution_count": 17,
     "metadata": {},
     "output_type": "execute_result"
    }
   ],
   "source": [
    "s.at[50,'Settle']    # [int. str]"
   ]
  },
  {
   "cell_type": "code",
   "execution_count": 18,
   "metadata": {},
   "outputs": [
    {
     "data": {
      "text/plain": [
       "143.0"
      ]
     },
     "execution_count": 18,
     "metadata": {},
     "output_type": "execute_result"
    }
   ],
   "source": [
    "s.iat[50,5]    #[int, int]  row index , column number"
   ]
  },
  {
   "cell_type": "code",
   "execution_count": 19,
   "metadata": {},
   "outputs": [
    {
     "data": {
      "text/plain": [
       "0        True\n",
       "1        True\n",
       "2        True\n",
       "3        True\n",
       "        ...  \n",
       "3202    False\n",
       "3203    False\n",
       "3204    False\n",
       "3205     True\n",
       "Name: Volume, Length: 3206, dtype: bool"
      ]
     },
     "execution_count": 19,
     "metadata": {},
     "output_type": "execute_result"
    }
   ],
   "source": [
    "s.Volume < 10000 "
   ]
  },
  {
   "cell_type": "code",
   "execution_count": 20,
   "metadata": {},
   "outputs": [
    {
     "data": {
      "text/plain": [
       "      Settle\n",
       "457   11.670\n",
       "458   11.870\n",
       "2264  11.740\n",
       "2274  11.950\n",
       "...      ...\n",
       "3165  11.775\n",
       "3168  11.925\n",
       "3169  11.825\n",
       "3170  11.975\n",
       "\n",
       "[144 rows x 1 columns]"
      ]
     },
     "execution_count": 20,
     "metadata": {},
     "output_type": "execute_result"
    }
   ],
   "source": [
    "s[(s.Settle < 12) & (s.Settle > 0)][['Settle']]"
   ]
  },
  {
   "cell_type": "markdown",
   "metadata": {},
   "source": [
    "### Loading  Historical Data"
   ]
  },
  {
   "cell_type": "code",
   "execution_count": 24,
   "metadata": {},
   "outputs": [],
   "source": [
    "start = datetime.datetime(2013, 4, 1)   \n",
    "\n",
    "end = datetime.datetime(2013, 9, 30)\n",
    "\n",
    "msft = data.DataReader(\"MSFT\", 'yahoo', start, end)   \n",
    "\n",
    "aapl = data.DataReader(\"AAPL\", 'yahoo', start, end)"
   ]
  },
  {
   "cell_type": "code",
   "execution_count": 30,
   "metadata": {},
   "outputs": [],
   "source": [
    "msft.to_csv(\"msft.csv\")   \n",
    "aapl.to_csv(\"aapl.csv\") "
   ]
  },
  {
   "cell_type": "markdown",
   "metadata": {},
   "source": [
    "### Reading saved files back to the Notebook"
   ]
  },
  {
   "cell_type": "code",
   "execution_count": 31,
   "metadata": {},
   "outputs": [],
   "source": [
    "msft = pd.read_csv(\"msft.csv\", index_col=0, parse_dates=True)   \n",
    "aapl = pd.read_csv(\"aapl.csv\", index_col=0, parse_dates=True) "
   ]
  },
  {
   "cell_type": "code",
   "execution_count": 32,
   "metadata": {},
   "outputs": [
    {
     "data": {
      "text/plain": [
       "                 Open       High        Low      Close  Adj Close     Volume\n",
       "Date                                                                        \n",
       "2013-04-01  63.128571  63.385715  61.105713  61.272858  46.031269   97433000\n",
       "2013-04-02  61.085712  62.591427  60.914288  61.398571  46.125721  132379800\n",
       "2013-04-03  61.624287  62.468571  61.472858  61.712856  46.361824   90804000\n",
       "2013-04-04  61.965714  62.142857  60.750000  61.102856  45.903553   89611900\n",
       "2013-04-05  60.642857  60.707142  59.954285  60.457142  45.418461   95923800\n",
       "2013-04-08  60.692856  61.071430  60.355713  60.887142  45.741497   75207300"
      ]
     },
     "execution_count": 32,
     "metadata": {},
     "output_type": "execute_result"
    }
   ],
   "source": [
    "msft[:6]"
   ]
  },
  {
   "cell_type": "markdown",
   "metadata": {},
   "source": [
    "## join, concatenate, merge  DataFrames"
   ]
  },
  {
   "cell_type": "code",
   "execution_count": 33,
   "metadata": {},
   "outputs": [
    {
     "data": {
      "text/plain": [
       "                 Open       High        Low      Close  Adj Close     Volume\n",
       "Date                                                                        \n",
       "2013-04-01  63.128571  63.385715  61.105713  61.272858  46.031269   97433000\n",
       "2013-04-02  61.085712  62.591427  60.914288  61.398571  46.125721  132379800\n",
       "2013-04-03  61.624287  62.468571  61.472858  61.712856  46.361824   90804000\n",
       "2013-04-01  63.128571  63.385715  61.105713  61.272858  46.031269   97433000\n",
       "2013-04-02  61.085712  62.591427  60.914288  61.398571  46.125721  132379800\n",
       "2013-04-03  61.624287  62.468571  61.472858  61.712856  46.361824   90804000"
      ]
     },
     "execution_count": 33,
     "metadata": {},
     "output_type": "execute_result"
    }
   ],
   "source": [
    "glue_them_both = pd.concat([msft.head(3), aapl.head(3)])\n",
    "glue_them_both"
   ]
  },
  {
   "cell_type": "code",
   "execution_count": 34,
   "metadata": {},
   "outputs": [],
   "source": [
    "aaplA01 = aapl['2013-05'][['Adj Close']]\n",
    "msftA01 = msft['2013-04'][['Adj Close']]"
   ]
  },
  {
   "cell_type": "code",
   "execution_count": 35,
   "metadata": {},
   "outputs": [
    {
     "data": {
      "text/plain": [
       "            Adj Close\n",
       "Date                 \n",
       "2013-05-01  47.145260\n",
       "2013-05-02  47.813885\n",
       "2013-05-03  48.292534\n",
       "2013-05-06  49.444084\n",
       "...               ...\n",
       "2013-04-04  45.903553\n",
       "2013-04-05  45.418461\n",
       "2013-04-08  45.741497\n",
       "2013-04-09  45.824131\n",
       "\n",
       "[14 rows x 1 columns]"
      ]
     },
     "execution_count": 35,
     "metadata": {},
     "output_type": "execute_result"
    }
   ],
   "source": [
    "pd.concat([aaplA01.head(7), msftA01[0:7]])"
   ]
  },
  {
   "cell_type": "code",
   "execution_count": 36,
   "metadata": {},
   "outputs": [],
   "source": [
    "# Making a MultiIndex with search by keys\n",
    "closes = pd.concat([msftA01, aaplA01],  keys=[5, 10])"
   ]
  },
  {
   "cell_type": "code",
   "execution_count": 37,
   "metadata": {},
   "outputs": [
    {
     "data": {
      "text/plain": [
       "               Adj Close\n",
       "   Date                 \n",
       "5  2013-04-01  46.031269\n",
       "   2013-04-02  46.125721\n",
       "   2013-04-03  46.361824\n",
       "   2013-04-04  45.903553\n",
       "...                  ...\n",
       "10 2013-05-28  49.661892\n",
       "   2013-05-29  50.056763\n",
       "   2013-05-30  50.802635\n",
       "   2013-05-31  50.594505\n",
       "\n",
       "[44 rows x 1 columns]"
      ]
     },
     "execution_count": 37,
     "metadata": {},
     "output_type": "execute_result"
    }
   ],
   "source": [
    "closes"
   ]
  },
  {
   "cell_type": "code",
   "execution_count": 38,
   "metadata": {},
   "outputs": [
    {
     "data": {
      "text/plain": [
       "            Adj Close     Volume\n",
       "Date                            \n",
       "2013-04-01  46.031269   97433000\n",
       "2013-04-02  46.125721  132379800\n",
       "2013-04-03  46.361824   90804000\n",
       "2013-04-04  45.903553   89611900\n",
       "...               ...        ...\n",
       "2013-09-25  56.779057   79239300\n",
       "2013-09-26  57.332077   59305400\n",
       "2013-09-27  56.922920   57010100\n",
       "2013-09-30  56.215424   65039100\n",
       "\n",
       "[256 rows x 2 columns]"
      ]
     },
     "execution_count": 38,
     "metadata": {},
     "output_type": "execute_result"
    }
   ],
   "source": [
    "msftAV = msft[['Adj Close', 'Volume']]   \n",
    "aaplAV = msft[['Adj Close', 'Volume']]  \n",
    "pd.concat([msftAV, aaplAV])"
   ]
  },
  {
   "cell_type": "code",
   "execution_count": 39,
   "metadata": {},
   "outputs": [
    {
     "data": {
      "text/plain": [
       "            Adj Close     Volume\n",
       "Date                            \n",
       "2013-04-01  46.031269   97433000\n",
       "2013-04-02  46.125721  132379800\n",
       "2013-04-03  46.361824   90804000\n",
       "2013-04-04  45.903553   89611900\n",
       "...               ...        ...\n",
       "2013-09-25  56.779057   79239300\n",
       "2013-09-26  57.332077   59305400\n",
       "2013-09-27  56.922920   57010100\n",
       "2013-09-30  56.215424   65039100\n",
       "\n",
       "[256 rows x 2 columns]"
      ]
     },
     "execution_count": 39,
     "metadata": {},
     "output_type": "execute_result"
    }
   ],
   "source": [
    "pd.concat([msftAV, aaplAV], join='inner')"
   ]
  },
  {
   "cell_type": "code",
   "execution_count": 40,
   "metadata": {},
   "outputs": [
    {
     "data": {
      "text/plain": [
       "   Adj Close     Volume\n",
       "0  46.031269   97433000\n",
       "1  46.125721  132379800\n",
       "2  46.361824   90804000\n",
       "3  46.031269   97433000\n",
       "4  46.125721  132379800\n",
       "5  46.361824   90804000"
      ]
     },
     "execution_count": 40,
     "metadata": {},
     "output_type": "execute_result"
    }
   ],
   "source": [
    "# Making a new index insted of an old one with ignore_index = True\n",
    "pd.concat([msftAV[:3], aaplAV[:3]], ignore_index=True)"
   ]
  },
  {
   "cell_type": "code",
   "execution_count": 41,
   "metadata": {},
   "outputs": [
    {
     "data": {
      "text/plain": [
       "     Adj Close     Volume\n",
       "0    46.031269   97433000\n",
       "1    46.125721  132379800\n",
       "2    46.361824   90804000\n",
       "3    45.903553   89611900\n",
       "..         ...        ...\n",
       "124  56.779057   79239300\n",
       "125  57.332077   59305400\n",
       "126  56.922920   57010100\n",
       "127  56.215424   65039100\n",
       "\n",
       "[128 rows x 2 columns]"
      ]
     },
     "execution_count": 41,
     "metadata": {},
     "output_type": "execute_result"
    }
   ],
   "source": [
    "mask = pd.merge(msftAV, aaplAV) \n",
    "mask"
   ]
  },
  {
   "cell_type": "markdown",
   "metadata": {},
   "source": [
    "\n",
    "## Pivoting\n",
    "####  The following command creates a DataFrame with this schema and populates the records:\n"
   ]
  },
  {
   "cell_type": "code",
   "execution_count": 42,
   "metadata": {},
   "outputs": [],
   "source": [
    "msft.insert(0, 'Symbol', 'MSFT')\n",
    "aapl.insert(0, 'Symbol', 'AAPL')"
   ]
  },
  {
   "cell_type": "code",
   "execution_count": 43,
   "metadata": {},
   "outputs": [],
   "source": [
    "combined = pd.concat([msft, aapl]).sort_index()\n",
    "p = combined.reset_index()"
   ]
  },
  {
   "cell_type": "code",
   "execution_count": 44,
   "metadata": {},
   "outputs": [
    {
     "data": {
      "text/plain": [
       "        Date Symbol       Open       High        Low      Close  Adj Close  \\\n",
       "0 2013-04-01   MSFT  63.128571  63.385715  61.105713  61.272858  46.031269   \n",
       "1 2013-04-01   AAPL  63.128571  63.385715  61.105713  61.272858  46.031269   \n",
       "2 2013-04-02   AAPL  61.085712  62.591427  60.914288  61.398571  46.125721   \n",
       "3 2013-04-02   MSFT  61.085712  62.591427  60.914288  61.398571  46.125721   \n",
       "4 2013-04-03   MSFT  61.624287  62.468571  61.472858  61.712856  46.361824   \n",
       "\n",
       "      Volume  \n",
       "0   97433000  \n",
       "1   97433000  \n",
       "2  132379800  \n",
       "3  132379800  \n",
       "4   90804000  "
      ]
     },
     "execution_count": 44,
     "metadata": {},
     "output_type": "execute_result"
    }
   ],
   "source": [
    "p.head()"
   ]
  },
  {
   "cell_type": "code",
   "execution_count": 45,
   "metadata": {},
   "outputs": [
    {
     "data": {
      "text/plain": [
       "Symbol           AAPL       MSFT\n",
       "Date                            \n",
       "2013-04-01  46.031269  46.031269\n",
       "2013-04-02  46.125721  46.125721\n",
       "2013-04-03  46.361824  46.361824\n",
       "2013-04-04  45.903553  45.903553\n",
       "...               ...        ...\n",
       "2013-09-25  56.779057  56.779057\n",
       "2013-09-26  57.332077  57.332077\n",
       "2013-09-27  56.922920  56.922920\n",
       "2013-09-30  56.215424  56.215424\n",
       "\n",
       "[128 rows x 2 columns]"
      ]
     },
     "execution_count": 45,
     "metadata": {},
     "output_type": "execute_result"
    }
   ],
   "source": [
    "closes = p.pivot(index='Date', columns='Symbol', values='Adj Close') \n",
    "closes"
   ]
  },
  {
   "cell_type": "code",
   "execution_count": 46,
   "metadata": {},
   "outputs": [
    {
     "data": {
      "text/plain": [
       "Date        Symbol\n",
       "2013-04-01  AAPL      46.031269\n",
       "            MSFT      46.031269\n",
       "2013-04-02  AAPL      46.125721\n",
       "            MSFT      46.125721\n",
       "                        ...    \n",
       "2013-09-27  AAPL      56.922920\n",
       "            MSFT      56.922920\n",
       "2013-09-30  AAPL      56.215424\n",
       "            MSFT      56.215424\n",
       "Length: 256, dtype: float64"
      ]
     },
     "execution_count": 46,
     "metadata": {},
     "output_type": "execute_result"
    }
   ],
   "source": [
    "closes.stack()"
   ]
  },
  {
   "cell_type": "code",
   "execution_count": 47,
   "metadata": {},
   "outputs": [
    {
     "data": {
      "text/plain": [
       "Symbol  Date      \n",
       "AAPL    2013-04-01    46.031269\n",
       "        2013-04-02    46.125721\n",
       "        2013-04-03    46.361824\n",
       "        2013-04-04    45.903553\n",
       "                        ...    \n",
       "MSFT    2013-09-25    56.779057\n",
       "        2013-09-26    57.332077\n",
       "        2013-09-27    56.922920\n",
       "        2013-09-30    56.215424\n",
       "Length: 256, dtype: float64"
      ]
     },
     "execution_count": 47,
     "metadata": {},
     "output_type": "execute_result"
    }
   ],
   "source": [
    "closes.unstack()"
   ]
  },
  {
   "cell_type": "markdown",
   "metadata": {},
   "source": [
    "#### Melting is the process of transforming a DataFrame into a format where each row represents a unique id-variable combination. "
   ]
  },
  {
   "cell_type": "code",
   "execution_count": 48,
   "metadata": {},
   "outputs": [
    {
     "data": {
      "text/plain": [
       "        Date Symbol variable      value\n",
       "0 2013-04-01   MSFT     Open  63.128571\n",
       "1 2013-04-01   AAPL     Open  63.128571\n",
       "2 2013-04-02   AAPL     Open  61.085712\n",
       "3 2013-04-02   MSFT     Open  61.085712\n",
       "4 2013-04-03   MSFT     Open  61.624287"
      ]
     },
     "execution_count": 48,
     "metadata": {},
     "output_type": "execute_result"
    }
   ],
   "source": [
    "melted = pd.melt(p, id_vars=['Date', 'Symbol'])   \n",
    "melted[:5]"
   ]
  },
  {
   "cell_type": "code",
   "execution_count": 49,
   "metadata": {},
   "outputs": [
    {
     "data": {
      "text/plain": [
       "           Date Symbol   variable         value\n",
       "4    2013-04-03   MSFT       Open  6.162429e+01\n",
       "260  2013-04-03   MSFT       High  6.246857e+01\n",
       "516  2013-04-03   MSFT        Low  6.147286e+01\n",
       "772  2013-04-03   MSFT      Close  6.171286e+01\n",
       "1028 2013-04-03   MSFT  Adj Close  4.636182e+01\n",
       "1284 2013-04-03   MSFT     Volume  9.080400e+07"
      ]
     },
     "execution_count": 49,
     "metadata": {},
     "output_type": "execute_result"
    }
   ],
   "source": [
    "melted[(melted.Date=='2013-04-03') & (melted.Symbol=='MSFT')]"
   ]
  },
  {
   "cell_type": "code",
   "execution_count": 50,
   "metadata": {},
   "outputs": [],
   "source": [
    "s4g = combined[['Symbol', 'Adj Close']].reset_index() \n",
    "s4g.insert(1, 'Year', pd.DatetimeIndex(s4g['Date']).year)"
   ]
  },
  {
   "cell_type": "code",
   "execution_count": 51,
   "metadata": {},
   "outputs": [],
   "source": [
    "s4g.insert(2, 'Month',pd.DatetimeIndex(s4g['Date']).month) "
   ]
  },
  {
   "cell_type": "code",
   "execution_count": 52,
   "metadata": {},
   "outputs": [
    {
     "data": {
      "text/plain": [
       "        Date  Year  Month Symbol  Adj Close\n",
       "0 2013-04-01  2013      4   MSFT  46.031269\n",
       "1 2013-04-01  2013      4   AAPL  46.031269\n",
       "2 2013-04-02  2013      4   AAPL  46.125721\n",
       "3 2013-04-02  2013      4   MSFT  46.125721\n",
       "4 2013-04-03  2013      4   MSFT  46.361824"
      ]
     },
     "execution_count": 52,
     "metadata": {},
     "output_type": "execute_result"
    }
   ],
   "source": [
    "s4g.head()"
   ]
  },
  {
   "cell_type": "code",
   "execution_count": 53,
   "metadata": {},
   "outputs": [
    {
     "data": {
      "text/plain": [
       "  Symbol  Year  Month  Adj Close\n",
       "0   AAPL  2013      4  45.049812\n",
       "1   AAPL  2013      5  49.586069\n",
       "2   AAPL  2013      6  47.872910\n",
       "3   AAPL  2013      7  48.280079\n",
       "4   AAPL  2013      8  56.599114"
      ]
     },
     "execution_count": 53,
     "metadata": {},
     "output_type": "execute_result"
    }
   ],
   "source": [
    "s4g.groupby(['Symbol', 'Year', 'Month'],as_index=False).agg(np.mean)[:5]\n"
   ]
  },
  {
   "cell_type": "code",
   "execution_count": 54,
   "metadata": {},
   "outputs": [
    {
     "data": {
      "text/plain": [
       "PeriodIndex(['2013-01-01', '2013-01-02', '2013-01-03', '2013-01-04',\n",
       "             '2013-01-05', '2013-01-06', '2013-01-07', '2013-01-08',\n",
       "             '2013-01-09', '2013-01-10',\n",
       "             ...\n",
       "             '2014-12-22', '2014-12-23', '2014-12-24', '2014-12-25',\n",
       "             '2014-12-26', '2014-12-27', '2014-12-28', '2014-12-29',\n",
       "             '2014-12-30', '2014-12-31'],\n",
       "            dtype='period[D]', length=730, freq='D')"
      ]
     },
     "execution_count": 54,
     "metadata": {},
     "output_type": "execute_result"
    }
   ],
   "source": [
    "#DateTime range with freq day; can be 'M', 'A' year\n",
    "mp = pd.period_range('1/1/2013', '12/31/2014', freq='D') \n",
    "mp"
   ]
  },
  {
   "cell_type": "markdown",
   "metadata": {},
   "source": [
    "#### The following command shifts the adjusted closing prices forward by 1 day:"
   ]
  },
  {
   "cell_type": "code",
   "execution_count": 55,
   "metadata": {},
   "outputs": [
    {
     "data": {
      "text/plain": [
       "PeriodIndex(['2013-01-02', '2013-01-03', '2013-01-04', '2013-01-05',\n",
       "             '2013-01-06', '2013-01-07', '2013-01-08', '2013-01-09',\n",
       "             '2013-01-10', '2013-01-11',\n",
       "             ...\n",
       "             '2014-12-23', '2014-12-24', '2014-12-25', '2014-12-26',\n",
       "             '2014-12-27', '2014-12-28', '2014-12-29', '2014-12-30',\n",
       "             '2014-12-31', '2015-01-01'],\n",
       "            dtype='period[D]', length=730, freq='D')"
      ]
     },
     "execution_count": 55,
     "metadata": {},
     "output_type": "execute_result"
    }
   ],
   "source": [
    "mp.shift(1)"
   ]
  },
  {
   "cell_type": "code",
   "execution_count": 56,
   "metadata": {},
   "outputs": [
    {
     "data": {
      "text/plain": [
       "PeriodIndex(['2012-12-30', '2012-12-31', '2013-01-01', '2013-01-02',\n",
       "             '2013-01-03', '2013-01-04', '2013-01-05', '2013-01-06',\n",
       "             '2013-01-07', '2013-01-08'],\n",
       "            dtype='period[D]', freq='D')"
      ]
     },
     "execution_count": 56,
     "metadata": {},
     "output_type": "execute_result"
    }
   ],
   "source": [
    "shifted_backwards = mp.shift(-2)[:10] \n",
    "shifted_backwards"
   ]
  },
  {
   "cell_type": "markdown",
   "metadata": {},
   "source": [
    "### the calculation of daily percentage changes from the previous day"
   ]
  },
  {
   "cell_type": "code",
   "execution_count": 57,
   "metadata": {},
   "outputs": [
    {
     "data": {
      "text/plain": [
       "Date\n",
       "2013-04-02    0.002052\n",
       "2013-04-03    0.005119\n",
       "2013-04-04   -0.009885\n",
       "2013-04-05   -0.010568\n",
       "                ...   \n",
       "2013-09-25   -0.015478\n",
       "2013-09-26    0.009740\n",
       "2013-09-27   -0.007137\n",
       "2013-09-30   -0.012429\n",
       "Name: Adj Close, Length: 127, dtype: float64"
      ]
     },
     "execution_count": 57,
     "metadata": {},
     "output_type": "execute_result"
    }
   ],
   "source": [
    "pct_cng= msft['Adj Close']  / msft['Adj Close'].shift(1)-1\n",
    "pct_cng.dropna()"
   ]
  },
  {
   "cell_type": "code",
   "execution_count": 58,
   "metadata": {},
   "outputs": [
    {
     "data": {
      "text/plain": [
       "Date\n",
       "2013-04-02    0.002052\n",
       "2013-04-03    0.005119\n",
       "2013-04-04   -0.009885\n",
       "2013-04-05   -0.010568\n",
       "                ...   \n",
       "2013-09-25   -0.015478\n",
       "2013-09-26    0.009740\n",
       "2013-09-27   -0.007137\n",
       "2013-09-30   -0.012429\n",
       "Name: Adj Close, Length: 127, dtype: float64"
      ]
     },
     "execution_count": 58,
     "metadata": {},
     "output_type": "execute_result"
    }
   ],
   "source": [
    "msft['Adj Close'].pct_change().dropna()"
   ]
  },
  {
   "cell_type": "code",
   "execution_count": 59,
   "metadata": {},
   "outputs": [
    {
     "data": {
      "text/plain": [
       "Date\n",
       "2013-04-01         NaN\n",
       "2013-04-02    1.002052\n",
       "2013-04-03    1.007181\n",
       "2013-04-04    0.997225\n",
       "                ...   \n",
       "2013-09-25    1.233489\n",
       "2013-09-26    1.245503\n",
       "2013-09-27    1.236614\n",
       "2013-09-30    1.221244\n",
       "Name: Adj Close, Length: 128, dtype: float64"
      ]
     },
     "execution_count": 59,
     "metadata": {},
     "output_type": "execute_result"
    }
   ],
   "source": [
    "msft_cum_ret = (1 + (msft['Adj Close'] / msft['Adj Close'].shift(1)-1)).cumprod() \n",
    "msft_cum_ret"
   ]
  },
  {
   "cell_type": "code",
   "execution_count": 60,
   "metadata": {},
   "outputs": [],
   "source": [
    "#Resampling can be either downsampling, where data is converted to wider frequency ranges (such as downsampling from day-to-day to month-to-month) \n",
    "#or upsampling, where data is converted to narrower time ranges. \n",
    "#Data for the associated labels are then calculated by a function provided to pandas instead  of simple filling"
   ]
  },
  {
   "cell_type": "code",
   "execution_count": 61,
   "metadata": {},
   "outputs": [
    {
     "data": {
      "text/plain": [
       "DatetimeIndexResampler [freq=<Week: weekday=6>, axis=0, closed=right, label=right, convention=start, base=0]"
      ]
     },
     "execution_count": 61,
     "metadata": {},
     "output_type": "execute_result"
    }
   ],
   "source": [
    "msft_monthly_cum_ret = msft_cum_ret.resample(\"W\")\n",
    "msft_monthly_cum_ret"
   ]
  },
  {
   "cell_type": "code",
   "execution_count": 62,
   "metadata": {},
   "outputs": [
    {
     "name": "stderr",
     "output_type": "stream",
     "text": [
      "C:\\Users\\admin\\Downloads\\WinPython-64bit-3.6.3.0Qt5\\python-3.6.3.amd64\\lib\\site-packages\\ipykernel_launcher.py:1: FutureWarning: how in .resample() is deprecated\n",
      "the new syntax is .resample(...).std()\n",
      "  \"\"\"Entry point for launching an IPython kernel.\n"
     ]
    },
    {
     "data": {
      "text/plain": [
       "Date\n",
       "2013-04-30    0.035136\n",
       "2013-05-31    0.023582\n",
       "2013-06-30    0.045124\n",
       "2013-07-31    0.029311\n",
       "2013-08-31    0.064064\n",
       "2013-09-30    0.039548\n",
       "Freq: M, Name: Adj Close, dtype: float64"
      ]
     },
     "execution_count": 62,
     "metadata": {},
     "output_type": "execute_result"
    }
   ],
   "source": [
    "msft_cum_ret.resample(\"M\", how=\"std\")"
   ]
  },
  {
   "cell_type": "code",
   "execution_count": 63,
   "metadata": {},
   "outputs": [
    {
     "name": "stderr",
     "output_type": "stream",
     "text": [
      "C:\\Users\\admin\\Downloads\\WinPython-64bit-3.6.3.0Qt5\\python-3.6.3.amd64\\lib\\site-packages\\ipykernel_launcher.py:1: FutureWarning: how in .resample() is deprecated\n",
      "the new syntax is .resample(...).ohlc()\n",
      "  \"\"\"Entry point for launching an IPython kernel.\n"
     ]
    },
    {
     "data": {
      "text/plain": [
       "                open      high       low     close\n",
       "Date                                              \n",
       "2013-04-30  1.002052  1.032338  0.910517  1.032338\n",
       "2013-05-31  1.024201  1.116339  1.024201  1.099133\n",
       "2013-06-30  1.101553  1.101553  0.962392  0.969114\n",
       "2013-07-31  1.000128  1.107907  1.000128  1.105977\n",
       "2013-08-31  1.116119  1.300629  1.116119  1.248065\n",
       "2013-09-30  1.251548  1.296607  1.153029  1.221244"
      ]
     },
     "execution_count": 63,
     "metadata": {},
     "output_type": "execute_result"
    }
   ],
   "source": [
    " msft_cum_ret.resample(\"M\", how=\"ohlc\")"
   ]
  },
  {
   "cell_type": "code",
   "execution_count": 64,
   "metadata": {},
   "outputs": [],
   "source": [
    "sample = msft_cum_ret[1:3] "
   ]
  },
  {
   "cell_type": "code",
   "execution_count": 65,
   "metadata": {},
   "outputs": [],
   "source": [
    "by_hour = sample.resample(\"H\")"
   ]
  },
  {
   "cell_type": "code",
   "execution_count": 66,
   "metadata": {},
   "outputs": [
    {
     "data": {
      "text/plain": [
       "DatetimeIndexResampler [freq=<Hour>, axis=0, closed=left, label=left, convention=start, base=0]"
      ]
     },
     "execution_count": 66,
     "metadata": {},
     "output_type": "execute_result"
    }
   ],
   "source": [
    "by_hour"
   ]
  },
  {
   "cell_type": "code",
   "execution_count": 67,
   "metadata": {},
   "outputs": [
    {
     "data": {
      "text/plain": [
       "Date\n",
       "2013-04-02 00:00:00    1.002052\n",
       "2013-04-02 01:00:00    1.002266\n",
       "2013-04-02 02:00:00    1.002479\n",
       "2013-04-02 03:00:00    1.002693\n",
       "                         ...   \n",
       "2013-04-02 21:00:00    1.006540\n",
       "2013-04-02 22:00:00    1.006754\n",
       "2013-04-02 23:00:00    1.006967\n",
       "2013-04-03 00:00:00    1.007181\n",
       "Freq: H, Name: Adj Close, Length: 25, dtype: float64"
      ]
     },
     "execution_count": 67,
     "metadata": {},
     "output_type": "execute_result"
    }
   ],
   "source": [
    "# use Method .interpolate()   to shift and fii in NaN\n",
    "by_hour.interpolate()"
   ]
  }
 ],
 "metadata": {
  "kernelspec": {
   "display_name": "Python 3",
   "language": "python",
   "name": "python3"
  },
  "language_info": {
   "codemirror_mode": {
    "name": "ipython",
    "version": 3
   },
   "file_extension": ".py",
   "mimetype": "text/x-python",
   "name": "python",
   "nbconvert_exporter": "python",
   "pygments_lexer": "ipython3",
   "version": "3.6.3"
  }
 },
 "nbformat": 4,
 "nbformat_minor": 1
}
