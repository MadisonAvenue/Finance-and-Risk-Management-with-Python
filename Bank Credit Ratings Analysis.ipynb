{
 "cells": [
  {
   "cell_type": "code",
   "execution_count": 1,
   "metadata": {},
   "outputs": [],
   "source": [
    "import pandas as pd\n",
    "import numpy as np\n",
    "import matplotlib.pyplot as plt\n",
    "import glob\n",
    "%matplotlib inline\n",
    "import seaborn as sns\n",
    "sns.set_style('whitegrid')"
   ]
  },
  {
   "cell_type": "code",
   "execution_count": 2,
   "metadata": {},
   "outputs": [],
   "source": [
    "#glob.glob('*.xlsx')"
   ]
  },
  {
   "cell_type": "code",
   "execution_count": 3,
   "metadata": {},
   "outputs": [],
   "source": [
    "country = pd.read_excel('RW - Credit Risk Counterparties as of 30.04.2014 CapRes.xlsx', sheet_name='countries')\n",
    "country['Country'][0] = ''"
   ]
  },
  {
   "cell_type": "code",
   "execution_count": 4,
   "metadata": {},
   "outputs": [],
   "source": [
    "country.columns = ['Country', \"Moody's_(long_term)\", \"S&P_(long_term)\", \"Fitch_(long_term)\", \n",
    "                   \"Moody's_outlook\",\"S&P_outlook\", \"Fitch_outlook\"]"
   ]
  },
  {
   "cell_type": "code",
   "execution_count": 5,
   "metadata": {},
   "outputs": [],
   "source": [
    "country.drop(24,axis = 0, inplace=True)\n",
    "country.drop(10,axis = 0, inplace=True)\n",
    "country.drop(22,axis = 0, inplace=True)"
   ]
  },
  {
   "cell_type": "code",
   "execution_count": 6,
   "metadata": {},
   "outputs": [
    {
     "data": {
      "text/html": [
       "<div>\n",
       "<style scoped>\n",
       "    .dataframe tbody tr th:only-of-type {\n",
       "        vertical-align: middle;\n",
       "    }\n",
       "\n",
       "    .dataframe tbody tr th {\n",
       "        vertical-align: top;\n",
       "    }\n",
       "\n",
       "    .dataframe thead th {\n",
       "        text-align: right;\n",
       "    }\n",
       "</style>\n",
       "<table border=\"1\" class=\"dataframe\">\n",
       "  <thead>\n",
       "    <tr style=\"text-align: right;\">\n",
       "      <th></th>\n",
       "      <th>Country</th>\n",
       "      <th>Moody's_(long_term)</th>\n",
       "      <th>S&amp;P_(long_term)</th>\n",
       "      <th>Fitch_(long_term)</th>\n",
       "      <th>Moody's_outlook</th>\n",
       "      <th>S&amp;P_outlook</th>\n",
       "      <th>Fitch_outlook</th>\n",
       "    </tr>\n",
       "  </thead>\n",
       "  <tbody>\n",
       "    <tr>\n",
       "      <th>0</th>\n",
       "      <td></td>\n",
       "      <td>Long Term</td>\n",
       "      <td>Long Term</td>\n",
       "      <td>Long Term</td>\n",
       "      <td>Outlook</td>\n",
       "      <td>Outlook</td>\n",
       "      <td>Outlook</td>\n",
       "    </tr>\n",
       "    <tr>\n",
       "      <th>1</th>\n",
       "      <td>Estonia</td>\n",
       "      <td>A1</td>\n",
       "      <td>AA-</td>\n",
       "      <td>A+</td>\n",
       "      <td>STABLE</td>\n",
       "      <td>STABLE</td>\n",
       "      <td>STABLE</td>\n",
       "    </tr>\n",
       "    <tr>\n",
       "      <th>2</th>\n",
       "      <td>Austria</td>\n",
       "      <td>Aaa</td>\n",
       "      <td>AA+</td>\n",
       "      <td>AAA</td>\n",
       "      <td>STABLE</td>\n",
       "      <td>STABLE</td>\n",
       "      <td>STABLE</td>\n",
       "    </tr>\n",
       "  </tbody>\n",
       "</table>\n",
       "</div>"
      ],
      "text/plain": [
       "   Country Moody's_(long_term) S&P_(long_term) Fitch_(long_term)  \\\n",
       "0                    Long Term       Long Term         Long Term   \n",
       "1  Estonia                  A1             AA-                A+   \n",
       "2  Austria                 Aaa             AA+               AAA   \n",
       "\n",
       "  Moody's_outlook S&P_outlook Fitch_outlook  \n",
       "0         Outlook     Outlook       Outlook  \n",
       "1          STABLE      STABLE        STABLE  \n",
       "2          STABLE      STABLE        STABLE  "
      ]
     },
     "execution_count": 6,
     "metadata": {},
     "output_type": "execute_result"
    }
   ],
   "source": [
    "country.head(3)"
   ]
  },
  {
   "cell_type": "code",
   "execution_count": 7,
   "metadata": {},
   "outputs": [],
   "source": [
    "country.drop(0, axis = 0, inplace=True)"
   ]
  },
  {
   "cell_type": "code",
   "execution_count": 8,
   "metadata": {},
   "outputs": [
    {
     "data": {
      "text/plain": [
       "array(['A1', 'Aaa', 'Baa2', 'Ba1', 'Baa1', 'A2', 'Ba3', 'Baa3'],\n",
       "      dtype=object)"
      ]
     },
     "execution_count": 8,
     "metadata": {},
     "output_type": "execute_result"
    }
   ],
   "source": [
    "country[\"Moody\\'s_(long_term)\"].unique()"
   ]
  },
  {
   "cell_type": "code",
   "execution_count": 9,
   "metadata": {},
   "outputs": [],
   "source": [
    "grades = []\n",
    "\n",
    "# For each row in the column,\n",
    "for row in country[\"Moody\\'s_(long_term)\"]:\n",
    "    # if more than a value,\n",
    "    if row == 'Aaa':\n",
    "        # Append a letter grade\n",
    "        grades.append(1)\n",
    "    # else, if more than a value,\n",
    "    elif row == 'A1':\n",
    "        # Append a letter grade\n",
    "        grades.append(2)\n",
    "    # else, if more than a value,\n",
    "    elif row == 'A2' :\n",
    "        # Append a letter grade\n",
    "        grades.append(3)\n",
    "    # else, if more than a value,\n",
    "    elif row == 'Baa1' :\n",
    "        # Append a letter grade\n",
    "        grades.append(4)\n",
    "    # else, if more than a value,\n",
    "    elif row == 'Baa2':\n",
    "        # Append a letter grade\n",
    "        grades.append(5)\n",
    "    # else, if more than a value,\n",
    "    elif row == 'Ba1':\n",
    "        # Append a letter grade\n",
    "        grades.append(6)\n",
    "    # else, if more than a value,\n",
    "    elif row == 'Baa3':\n",
    "        # Append a letter grade\n",
    "        grades.append(7)\n",
    "    # else, if more than a value,\n",
    "    elif row == 'Ba3':\n",
    "        # Append a letter grade\n",
    "        grades.append(8)\n",
    "    # otherwise,\n",
    "    else:\n",
    "        # Append a failing grade\n",
    "        grades.append(0)\n",
    "\n",
    "# Create a column from the list\n",
    "country['Rating'] = grades"
   ]
  },
  {
   "cell_type": "code",
   "execution_count": 10,
   "metadata": {},
   "outputs": [],
   "source": [
    "country['Rating'] = country['Rating'].astype('int')"
   ]
  },
  {
   "cell_type": "code",
   "execution_count": 11,
   "metadata": {},
   "outputs": [
    {
     "data": {
      "text/html": [
       "<div>\n",
       "<style scoped>\n",
       "    .dataframe tbody tr th:only-of-type {\n",
       "        vertical-align: middle;\n",
       "    }\n",
       "\n",
       "    .dataframe tbody tr th {\n",
       "        vertical-align: top;\n",
       "    }\n",
       "\n",
       "    .dataframe thead th {\n",
       "        text-align: right;\n",
       "    }\n",
       "</style>\n",
       "<table border=\"1\" class=\"dataframe\">\n",
       "  <thead>\n",
       "    <tr style=\"text-align: right;\">\n",
       "      <th></th>\n",
       "      <th>Country</th>\n",
       "      <th>Moody's_(long_term)</th>\n",
       "      <th>S&amp;P_(long_term)</th>\n",
       "      <th>Fitch_(long_term)</th>\n",
       "      <th>Moody's_outlook</th>\n",
       "      <th>S&amp;P_outlook</th>\n",
       "      <th>Fitch_outlook</th>\n",
       "      <th>Rating</th>\n",
       "    </tr>\n",
       "  </thead>\n",
       "  <tbody>\n",
       "    <tr>\n",
       "      <th>1</th>\n",
       "      <td>Estonia</td>\n",
       "      <td>A1</td>\n",
       "      <td>AA-</td>\n",
       "      <td>A+</td>\n",
       "      <td>STABLE</td>\n",
       "      <td>STABLE</td>\n",
       "      <td>STABLE</td>\n",
       "      <td>2</td>\n",
       "    </tr>\n",
       "    <tr>\n",
       "      <th>2</th>\n",
       "      <td>Austria</td>\n",
       "      <td>Aaa</td>\n",
       "      <td>AA+</td>\n",
       "      <td>AAA</td>\n",
       "      <td>STABLE</td>\n",
       "      <td>STABLE</td>\n",
       "      <td>STABLE</td>\n",
       "      <td>1</td>\n",
       "    </tr>\n",
       "    <tr>\n",
       "      <th>3</th>\n",
       "      <td>Bulgaria</td>\n",
       "      <td>Baa2</td>\n",
       "      <td>BBB</td>\n",
       "      <td>BBB-</td>\n",
       "      <td>STABLE</td>\n",
       "      <td>NEG</td>\n",
       "      <td>STABLE</td>\n",
       "      <td>5</td>\n",
       "    </tr>\n",
       "  </tbody>\n",
       "</table>\n",
       "</div>"
      ],
      "text/plain": [
       "    Country Moody's_(long_term) S&P_(long_term) Fitch_(long_term)  \\\n",
       "1   Estonia                  A1             AA-                A+   \n",
       "2   Austria                 Aaa             AA+               AAA   \n",
       "3  Bulgaria                Baa2             BBB              BBB-   \n",
       "\n",
       "  Moody's_outlook S&P_outlook Fitch_outlook  Rating  \n",
       "1          STABLE      STABLE        STABLE       2  \n",
       "2          STABLE      STABLE        STABLE       1  \n",
       "3          STABLE         NEG        STABLE       5  "
      ]
     },
     "execution_count": 11,
     "metadata": {},
     "output_type": "execute_result"
    }
   ],
   "source": [
    "country.head(3)"
   ]
  },
  {
   "cell_type": "code",
   "execution_count": 12,
   "metadata": {},
   "outputs": [
    {
     "data": {
      "text/html": [
       "<div>\n",
       "<style scoped>\n",
       "    .dataframe tbody tr th:only-of-type {\n",
       "        vertical-align: middle;\n",
       "    }\n",
       "\n",
       "    .dataframe tbody tr th {\n",
       "        vertical-align: top;\n",
       "    }\n",
       "\n",
       "    .dataframe thead th {\n",
       "        text-align: right;\n",
       "    }\n",
       "</style>\n",
       "<table border=\"1\" class=\"dataframe\">\n",
       "  <thead>\n",
       "    <tr style=\"text-align: right;\">\n",
       "      <th></th>\n",
       "      <th>Country</th>\n",
       "      <th>Moody's_(long_term)</th>\n",
       "      <th>S&amp;P_(long_term)</th>\n",
       "      <th>Fitch_(long_term)</th>\n",
       "      <th>Moody's_outlook</th>\n",
       "      <th>S&amp;P_outlook</th>\n",
       "      <th>Fitch_outlook</th>\n",
       "      <th>Rating</th>\n",
       "    </tr>\n",
       "  </thead>\n",
       "  <tbody>\n",
       "    <tr>\n",
       "      <th>2</th>\n",
       "      <td>Austria</td>\n",
       "      <td>Aaa</td>\n",
       "      <td>AA+</td>\n",
       "      <td>AAA</td>\n",
       "      <td>STABLE</td>\n",
       "      <td>STABLE</td>\n",
       "      <td>STABLE</td>\n",
       "      <td>1</td>\n",
       "    </tr>\n",
       "    <tr>\n",
       "      <th>5</th>\n",
       "      <td>Germany</td>\n",
       "      <td>Aaa</td>\n",
       "      <td>AAAu</td>\n",
       "      <td>AAA</td>\n",
       "      <td>STABLE</td>\n",
       "      <td>STABLE</td>\n",
       "      <td>STABLE</td>\n",
       "      <td>1</td>\n",
       "    </tr>\n",
       "    <tr>\n",
       "      <th>16</th>\n",
       "      <td>Sweden</td>\n",
       "      <td>Aaa</td>\n",
       "      <td>AAAu</td>\n",
       "      <td>AAA</td>\n",
       "      <td>STABLE</td>\n",
       "      <td>STABLE</td>\n",
       "      <td>STABLE</td>\n",
       "      <td>1</td>\n",
       "    </tr>\n",
       "    <tr>\n",
       "      <th>18</th>\n",
       "      <td>Switzerland</td>\n",
       "      <td>Aaa</td>\n",
       "      <td>AAAu</td>\n",
       "      <td>AAA</td>\n",
       "      <td>STABLE</td>\n",
       "      <td>STABLE</td>\n",
       "      <td>STABLE</td>\n",
       "      <td>1</td>\n",
       "    </tr>\n",
       "    <tr>\n",
       "      <th>20</th>\n",
       "      <td>UK</td>\n",
       "      <td>Aaa</td>\n",
       "      <td>AAAu</td>\n",
       "      <td>AA+</td>\n",
       "      <td>STABLE</td>\n",
       "      <td>NEG</td>\n",
       "      <td>STABLE</td>\n",
       "      <td>1</td>\n",
       "    </tr>\n",
       "    <tr>\n",
       "      <th>21</th>\n",
       "      <td>Netherlands</td>\n",
       "      <td>Aaa</td>\n",
       "      <td>AA+u</td>\n",
       "      <td>AAA</td>\n",
       "      <td>STABLE</td>\n",
       "      <td>STABLE</td>\n",
       "      <td>STABLE</td>\n",
       "      <td>1</td>\n",
       "    </tr>\n",
       "    <tr>\n",
       "      <th>23</th>\n",
       "      <td>United States Of America (3352Z US)</td>\n",
       "      <td>Aaa</td>\n",
       "      <td>AA+u</td>\n",
       "      <td>AAA</td>\n",
       "      <td>STABLE</td>\n",
       "      <td>STABLE</td>\n",
       "      <td>STABLE</td>\n",
       "      <td>1</td>\n",
       "    </tr>\n",
       "  </tbody>\n",
       "</table>\n",
       "</div>"
      ],
      "text/plain": [
       "                                Country Moody's_(long_term) S&P_(long_term)  \\\n",
       "2                               Austria                 Aaa             AA+   \n",
       "5                               Germany                 Aaa            AAAu   \n",
       "16                               Sweden                 Aaa            AAAu   \n",
       "18                          Switzerland                 Aaa            AAAu   \n",
       "20                                   UK                 Aaa            AAAu   \n",
       "21                          Netherlands                 Aaa            AA+u   \n",
       "23  United States Of America (3352Z US)                 Aaa            AA+u   \n",
       "\n",
       "   Fitch_(long_term) Moody's_outlook S&P_outlook Fitch_outlook  Rating  \n",
       "2                AAA          STABLE      STABLE        STABLE       1  \n",
       "5                AAA          STABLE      STABLE        STABLE       1  \n",
       "16               AAA          STABLE      STABLE        STABLE       1  \n",
       "18               AAA          STABLE      STABLE        STABLE       1  \n",
       "20               AA+          STABLE         NEG        STABLE       1  \n",
       "21               AAA          STABLE      STABLE        STABLE       1  \n",
       "23               AAA          STABLE      STABLE        STABLE       1  "
      ]
     },
     "execution_count": 12,
     "metadata": {},
     "output_type": "execute_result"
    }
   ],
   "source": [
    "country[country['Rating']== 1]"
   ]
  },
  {
   "cell_type": "code",
   "execution_count": 13,
   "metadata": {},
   "outputs": [
    {
     "data": {
      "text/html": [
       "<div>\n",
       "<style scoped>\n",
       "    .dataframe tbody tr th:only-of-type {\n",
       "        vertical-align: middle;\n",
       "    }\n",
       "\n",
       "    .dataframe tbody tr th {\n",
       "        vertical-align: top;\n",
       "    }\n",
       "\n",
       "    .dataframe thead th {\n",
       "        text-align: right;\n",
       "    }\n",
       "</style>\n",
       "<table border=\"1\" class=\"dataframe\">\n",
       "  <thead>\n",
       "    <tr style=\"text-align: right;\">\n",
       "      <th></th>\n",
       "      <th>Country</th>\n",
       "      <th>Moody's_(long_term)</th>\n",
       "      <th>S&amp;P_(long_term)</th>\n",
       "      <th>Fitch_(long_term)</th>\n",
       "      <th>Moody's_outlook</th>\n",
       "      <th>S&amp;P_outlook</th>\n",
       "      <th>Fitch_outlook</th>\n",
       "      <th>Rating</th>\n",
       "    </tr>\n",
       "  </thead>\n",
       "  <tbody>\n",
       "    <tr>\n",
       "      <th>12</th>\n",
       "      <td>Portugal</td>\n",
       "      <td>Ba3</td>\n",
       "      <td>BBu</td>\n",
       "      <td>BB+</td>\n",
       "      <td>STABLE</td>\n",
       "      <td>NEG</td>\n",
       "      <td>NEG</td>\n",
       "      <td>8</td>\n",
       "    </tr>\n",
       "    <tr>\n",
       "      <th>17</th>\n",
       "      <td>Georgia</td>\n",
       "      <td>Ba3</td>\n",
       "      <td>BB-</td>\n",
       "      <td>BB-</td>\n",
       "      <td>STABLE</td>\n",
       "      <td>STABLE</td>\n",
       "      <td>STABLE</td>\n",
       "      <td>8</td>\n",
       "    </tr>\n",
       "  </tbody>\n",
       "</table>\n",
       "</div>"
      ],
      "text/plain": [
       "     Country Moody's_(long_term) S&P_(long_term) Fitch_(long_term)  \\\n",
       "12  Portugal                 Ba3             BBu               BB+   \n",
       "17   Georgia                 Ba3             BB-               BB-   \n",
       "\n",
       "   Moody's_outlook S&P_outlook Fitch_outlook  Rating  \n",
       "12          STABLE         NEG           NEG       8  \n",
       "17          STABLE      STABLE        STABLE       8  "
      ]
     },
     "execution_count": 13,
     "metadata": {},
     "output_type": "execute_result"
    }
   ],
   "source": [
    "country[country['Rating']== 8]"
   ]
  },
  {
   "cell_type": "code",
   "execution_count": 14,
   "metadata": {},
   "outputs": [
    {
     "data": {
      "text/plain": [
       "array(['A1', 'Aaa', 'Baa2', 'Ba1', 'Baa1', 'A2', 'Ba3', 'Baa3'],\n",
       "      dtype=object)"
      ]
     },
     "execution_count": 14,
     "metadata": {},
     "output_type": "execute_result"
    }
   ],
   "source": [
    "country = country.set_index('Country')\n",
    "country['Moody\\'s_(long_term)'].unique()"
   ]
  },
  {
   "cell_type": "code",
   "execution_count": 15,
   "metadata": {},
   "outputs": [
    {
     "data": {
      "image/png": "[encoded data removed]",
      "text/plain": [
       "<matplotlib.figure.Figure at 0xb255710>"
      ]
     },
     "metadata": {},
     "output_type": "display_data"
    }
   ],
   "source": [
    "plt.figure(figsize = (7,5))\n",
    "country.Rating.plot(kind = 'barh', figsize = (11,7),color = '#63c6a9')\n",
    "plt.title(\"Country Credit Rating applied by Moody's\")\n",
    "plt.xlabel('Rating from 1 to 8')\n",
    "plt.show()"
   ]
  },
  {
   "cell_type": "code",
   "execution_count": 16,
   "metadata": {},
   "outputs": [],
   "source": [
    "import plotly.plotly as py\n",
    "import cufflinks as cf"
   ]
  },
  {
   "cell_type": "code",
   "execution_count": 18,
   "metadata": {},
   "outputs": [
    {
     "data": {
      "text/html": [
       "<iframe id=\"igraph\" scrolling=\"no\" style=\"border:none;\" seamless=\"seamless\" src=\"https://plot.ly/~Andrei_Ivantsov/223.embed\" height=\"525px\" width=\"100%\"></iframe>"
      ],
      "text/plain": [
       "<plotly.tools.PlotlyDisplay object>"
      ]
     },
     "execution_count": 18,
     "metadata": {},
     "output_type": "execute_result"
    }
   ],
   "source": [
    "country.iplot(kind='bar')  #.std, .mean, .sum, .cumsum can be used"
   ]
  },
  {
   "cell_type": "code",
   "execution_count": null,
   "metadata": {
    "collapsed": true
   },
   "outputs": [],
   "source": []
  }
 ],
 "metadata": {
  "kernelspec": {
   "display_name": "Python 3",
   "language": "python",
   "name": "python3"
  },
  "language_info": {
   "codemirror_mode": {
    "name": "ipython",
    "version": 3
   },
   "file_extension": ".py",
   "mimetype": "text/x-python",
   "name": "python",
   "nbconvert_exporter": "python",
   "pygments_lexer": "ipython3",
   "version": "3.6.3"
  }
 },
 "nbformat": 4,
 "nbformat_minor": 2
}
