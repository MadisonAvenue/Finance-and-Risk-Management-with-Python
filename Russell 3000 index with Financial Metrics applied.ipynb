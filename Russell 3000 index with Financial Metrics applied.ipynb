{
 "cells": [
  {
   "cell_type": "code",
   "execution_count": 2,
   "metadata": {},
   "outputs": [],
   "source": [
    "import pandas as pd\n",
    "import numpy as np\n",
    "from pandas_datareader import data as web\n",
    "import matplotlib.pyplot as plt\n",
    "import numpy.random as npr\n",
    "import warnings\n",
    "warnings.filterwarnings('ignore')\n",
    "import seaborn as sns\n",
    "%matplotlib inline\n",
    "pd.options.display.float_format = '{:20,.2f}'.format"
   ]
  },
  {
   "cell_type": "code",
   "execution_count": 3,
   "metadata": {},
   "outputs": [
    {
     "data": {
      "text/html": [
       "<div>\n",
       "<style scoped>\n",
       "    .dataframe tbody tr th:only-of-type {\n",
       "        vertical-align: middle;\n",
       "    }\n",
       "\n",
       "    .dataframe tbody tr th {\n",
       "        vertical-align: top;\n",
       "    }\n",
       "\n",
       "    .dataframe thead th {\n",
       "        text-align: right;\n",
       "    }\n",
       "</style>\n",
       "<table border=\"1\" class=\"dataframe\">\n",
       "  <thead>\n",
       "    <tr style=\"text-align: right;\">\n",
       "      <th></th>\n",
       "      <th>Open</th>\n",
       "      <th>High</th>\n",
       "      <th>Low</th>\n",
       "      <th>Close</th>\n",
       "      <th>Adj Close</th>\n",
       "      <th>Volume</th>\n",
       "    </tr>\n",
       "    <tr>\n",
       "      <th>Date</th>\n",
       "      <th></th>\n",
       "      <th></th>\n",
       "      <th></th>\n",
       "      <th></th>\n",
       "      <th></th>\n",
       "      <th></th>\n",
       "    </tr>\n",
       "  </thead>\n",
       "  <tbody>\n",
       "    <tr>\n",
       "      <th>2001-10-05</th>\n",
       "      <td>417.04</td>\n",
       "      <td>417.04</td>\n",
       "      <td>407.48</td>\n",
       "      <td>414.97</td>\n",
       "      <td>414.97</td>\n",
       "      <td>13017000</td>\n",
       "    </tr>\n",
       "    <tr>\n",
       "      <th>2001-10-08</th>\n",
       "      <td>414.97</td>\n",
       "      <td>415.13</td>\n",
       "      <td>410.25</td>\n",
       "      <td>412.18</td>\n",
       "      <td>412.18</td>\n",
       "      <td>9790000</td>\n",
       "    </tr>\n",
       "    <tr>\n",
       "      <th>2001-10-09</th>\n",
       "      <td>412.18</td>\n",
       "      <td>412.27</td>\n",
       "      <td>407.87</td>\n",
       "      <td>408.68</td>\n",
       "      <td>408.68</td>\n",
       "      <td>12278000</td>\n",
       "    </tr>\n",
       "  </tbody>\n",
       "</table>\n",
       "</div>"
      ],
      "text/plain": [
       "                           Open                 High                  Low  \\\n",
       "Date                                                                        \n",
       "2001-10-05               417.04               417.04               407.48   \n",
       "2001-10-08               414.97               415.13               410.25   \n",
       "2001-10-09               412.18               412.27               407.87   \n",
       "\n",
       "                          Close            Adj Close    Volume  \n",
       "Date                                                            \n",
       "2001-10-05               414.97               414.97  13017000  \n",
       "2001-10-08               412.18               412.18   9790000  \n",
       "2001-10-09               408.68               408.68  12278000  "
      ]
     },
     "execution_count": 3,
     "metadata": {},
     "output_type": "execute_result"
    }
   ],
   "source": [
    "russell = pd.read_csv('^RUT.csv',low_memory=False,index_col='Date', parse_dates=['Date'])\n",
    "russell.head(3)"
   ]
  },
  {
   "cell_type": "code",
   "execution_count": 4,
   "metadata": {},
   "outputs": [],
   "source": [
    "russell.rename(columns={'Adj Close': 'Adj_Close'}, inplace=True)"
   ]
  },
  {
   "cell_type": "code",
   "execution_count": 10,
   "metadata": {},
   "outputs": [
    {
     "data": {
      "image/png": "[encoded data removed]",
      "text/plain": [
       "<matplotlib.figure.Figure at 0xb9d0cc0>"
      ]
     },
     "metadata": {},
     "output_type": "display_data"
    }
   ],
   "source": [
    "plt.figure(figsize = (10,7))\n",
    "russell['Adj_Close'].plot(color = 'b', alpha = 1, lw = 1.7, style = '--')\n",
    "plt.xlabel('Date')\n",
    "plt.grid(True)\n",
    "plt.axis('tight')\n",
    "plt.ylabel('Closing Price')\n",
    "plt.title('Russell 2000 Index Adjusted Close price',size= 14, weight = 'bold', color = 'blue')\n",
    "plt.legend()\n",
    "plt.tight_layout()\n",
    "plt.xticks(rotation = 0)\n",
    "plt.show()"
   ]
  },
  {
   "cell_type": "code",
   "execution_count": 11,
   "metadata": {},
   "outputs": [
    {
     "data": {
      "image/png": "[encoded data removed]",
      "text/plain": [
       "<matplotlib.figure.Figure at 0xc44f5f8>"
      ]
     },
     "metadata": {},
     "output_type": "display_data"
    }
   ],
   "source": [
    "plt.figure(figsize = (9,5))\n",
    "plt.hist(russell.Volume, bins = 50, color = 'red')\n",
    "plt.grid()\n",
    "plt.show()"
   ]
  },
  {
   "cell_type": "code",
   "execution_count": 12,
   "metadata": {},
   "outputs": [
    {
     "data": {
      "text/html": [
       "<div>\n",
       "<style scoped>\n",
       "    .dataframe tbody tr th:only-of-type {\n",
       "        vertical-align: middle;\n",
       "    }\n",
       "\n",
       "    .dataframe tbody tr th {\n",
       "        vertical-align: top;\n",
       "    }\n",
       "\n",
       "    .dataframe thead th {\n",
       "        text-align: right;\n",
       "    }\n",
       "</style>\n",
       "<table border=\"1\" class=\"dataframe\">\n",
       "  <thead>\n",
       "    <tr style=\"text-align: right;\">\n",
       "      <th></th>\n",
       "      <th>Open</th>\n",
       "      <th>High</th>\n",
       "      <th>Low</th>\n",
       "      <th>Close</th>\n",
       "      <th>Adj_Close</th>\n",
       "      <th>Volume</th>\n",
       "    </tr>\n",
       "  </thead>\n",
       "  <tbody>\n",
       "    <tr>\n",
       "      <th>count</th>\n",
       "      <td>4,029.00</td>\n",
       "      <td>4,029.00</td>\n",
       "      <td>4,029.00</td>\n",
       "      <td>4,029.00</td>\n",
       "      <td>4,029.00</td>\n",
       "      <td>4,029.00</td>\n",
       "    </tr>\n",
       "    <tr>\n",
       "      <th>mean</th>\n",
       "      <td>798.75</td>\n",
       "      <td>804.39</td>\n",
       "      <td>792.64</td>\n",
       "      <td>798.98</td>\n",
       "      <td>798.98</td>\n",
       "      <td>32,425,543.71</td>\n",
       "    </tr>\n",
       "    <tr>\n",
       "      <th>std</th>\n",
       "      <td>281.91</td>\n",
       "      <td>282.54</td>\n",
       "      <td>281.25</td>\n",
       "      <td>282.02</td>\n",
       "      <td>282.02</td>\n",
       "      <td>14,767,209.21</td>\n",
       "    </tr>\n",
       "    <tr>\n",
       "      <th>min</th>\n",
       "      <td>327.04</td>\n",
       "      <td>336.18</td>\n",
       "      <td>324.90</td>\n",
       "      <td>327.04</td>\n",
       "      <td>327.04</td>\n",
       "      <td>0.00</td>\n",
       "    </tr>\n",
       "    <tr>\n",
       "      <th>25%</th>\n",
       "      <td>589.49</td>\n",
       "      <td>594.77</td>\n",
       "      <td>584.64</td>\n",
       "      <td>589.40</td>\n",
       "      <td>589.40</td>\n",
       "      <td>19,762,700.00</td>\n",
       "    </tr>\n",
       "    <tr>\n",
       "      <th>50%</th>\n",
       "      <td>738.44</td>\n",
       "      <td>744.82</td>\n",
       "      <td>732.61</td>\n",
       "      <td>738.86</td>\n",
       "      <td>738.86</td>\n",
       "      <td>32,854,600.00</td>\n",
       "    </tr>\n",
       "    <tr>\n",
       "      <th>75%</th>\n",
       "      <td>1,046.64</td>\n",
       "      <td>1,052.10</td>\n",
       "      <td>1,040.79</td>\n",
       "      <td>1,046.08</td>\n",
       "      <td>1,046.08</td>\n",
       "      <td>40,592,800.00</td>\n",
       "    </tr>\n",
       "    <tr>\n",
       "      <th>max</th>\n",
       "      <td>1,512.00</td>\n",
       "      <td>1,514.94</td>\n",
       "      <td>1,508.34</td>\n",
       "      <td>1,512.09</td>\n",
       "      <td>1,512.09</td>\n",
       "      <td>114,562,300.00</td>\n",
       "    </tr>\n",
       "  </tbody>\n",
       "</table>\n",
       "</div>"
      ],
      "text/plain": [
       "                      Open                 High                  Low  \\\n",
       "count             4,029.00             4,029.00             4,029.00   \n",
       "mean                798.75               804.39               792.64   \n",
       "std                 281.91               282.54               281.25   \n",
       "min                 327.04               336.18               324.90   \n",
       "25%                 589.49               594.77               584.64   \n",
       "50%                 738.44               744.82               732.61   \n",
       "75%               1,046.64             1,052.10             1,040.79   \n",
       "max               1,512.00             1,514.94             1,508.34   \n",
       "\n",
       "                     Close            Adj_Close               Volume  \n",
       "count             4,029.00             4,029.00             4,029.00  \n",
       "mean                798.98               798.98        32,425,543.71  \n",
       "std                 282.02               282.02        14,767,209.21  \n",
       "min                 327.04               327.04                 0.00  \n",
       "25%                 589.40               589.40        19,762,700.00  \n",
       "50%                 738.86               738.86        32,854,600.00  \n",
       "75%               1,046.08             1,046.08        40,592,800.00  \n",
       "max               1,512.09             1,512.09       114,562,300.00  "
      ]
     },
     "execution_count": 12,
     "metadata": {},
     "output_type": "execute_result"
    }
   ],
   "source": [
    "russell.describe()"
   ]
  },
  {
   "cell_type": "code",
   "execution_count": 13,
   "metadata": {},
   "outputs": [],
   "source": [
    "russell['252_day_average'] = russell.Open - russell.Close / 252"
   ]
  },
  {
   "cell_type": "markdown",
   "metadata": {},
   "source": [
    "### SImple Financial Metric Applied"
   ]
  },
  {
   "cell_type": "code",
   "execution_count": 14,
   "metadata": {},
   "outputs": [
    {
     "data": {
      "text/plain": [
       "1512.089966"
      ]
     },
     "execution_count": 14,
     "metadata": {},
     "output_type": "execute_result"
    }
   ],
   "source": [
    "russell.Close.max()"
   ]
  },
  {
   "cell_type": "code",
   "execution_count": 15,
   "metadata": {},
   "outputs": [
    {
     "data": {
      "text/plain": [
       "327.040009"
      ]
     },
     "execution_count": 15,
     "metadata": {},
     "output_type": "execute_result"
    }
   ],
   "source": [
    "russell.Close.min()"
   ]
  },
  {
   "cell_type": "code",
   "execution_count": 16,
   "metadata": {},
   "outputs": [
    {
     "data": {
      "text/plain": [
       "Timestamp('2017-10-04 00:00:00')"
      ]
     },
     "execution_count": 16,
     "metadata": {},
     "output_type": "execute_result"
    }
   ],
   "source": [
    "russell.Open.argmax()"
   ]
  },
  {
   "cell_type": "code",
   "execution_count": 17,
   "metadata": {},
   "outputs": [
    {
     "data": {
      "text/plain": [
       "Timestamp('2002-10-09 00:00:00')"
      ]
     },
     "execution_count": 17,
     "metadata": {},
     "output_type": "execute_result"
    }
   ],
   "source": [
    "russell.Close.argmin()"
   ]
  },
  {
   "cell_type": "code",
   "execution_count": 18,
   "metadata": {},
   "outputs": [
    {
     "data": {
      "text/plain": [
       "Timestamp('2017-10-05 00:00:00')"
      ]
     },
     "execution_count": 18,
     "metadata": {},
     "output_type": "execute_result"
    }
   ],
   "source": [
    "russell.Close.idxmax()"
   ]
  },
  {
   "cell_type": "code",
   "execution_count": 19,
   "metadata": {},
   "outputs": [
    {
     "data": {
      "text/plain": [
       "Timestamp('2002-10-09 00:00:00')"
      ]
     },
     "execution_count": 19,
     "metadata": {},
     "output_type": "execute_result"
    }
   ],
   "source": [
    "russell.Close.idxmin()"
   ]
  },
  {
   "cell_type": "code",
   "execution_count": 20,
   "metadata": {},
   "outputs": [
    {
     "data": {
      "text/plain": [
       "282.0225745440716"
      ]
     },
     "execution_count": 20,
     "metadata": {},
     "output_type": "execute_result"
    }
   ],
   "source": [
    "russell.Close.std()"
   ]
  },
  {
   "cell_type": "code",
   "execution_count": 21,
   "metadata": {},
   "outputs": [
    {
     "data": {
      "text/plain": [
       "-0.6944633107358067"
      ]
     },
     "execution_count": 21,
     "metadata": {},
     "output_type": "execute_result"
    }
   ],
   "source": [
    "russell.Close.kurt()"
   ]
  },
  {
   "cell_type": "code",
   "execution_count": 22,
   "metadata": {},
   "outputs": [
    {
     "data": {
      "text/plain": [
       "798.9836984681086"
      ]
     },
     "execution_count": 22,
     "metadata": {},
     "output_type": "execute_result"
    }
   ],
   "source": [
    "russell.Close.mean()"
   ]
  },
  {
   "cell_type": "code",
   "execution_count": 23,
   "metadata": {},
   "outputs": [
    {
     "data": {
      "text/plain": [
       "0                 570.74\n",
       "1                 609.49\n",
       "2               1,161.86\n",
       "3               1,167.21\n",
       "dtype: float64"
      ]
     },
     "execution_count": 23,
     "metadata": {},
     "output_type": "execute_result"
    }
   ],
   "source": [
    "russell.Close.mode()"
   ]
  },
  {
   "cell_type": "code",
   "execution_count": 24,
   "metadata": {},
   "outputs": [
    {
     "data": {
      "text/plain": [
       "738.8599849999999"
      ]
     },
     "execution_count": 24,
     "metadata": {},
     "output_type": "execute_result"
    }
   ],
   "source": [
    "russell.Close.median()"
   ]
  },
  {
   "cell_type": "code",
   "execution_count": 25,
   "metadata": {},
   "outputs": [
    {
     "data": {
      "text/plain": [
       "79536.73255246642"
      ]
     },
     "execution_count": 25,
     "metadata": {},
     "output_type": "execute_result"
    }
   ],
   "source": [
    "russell.Close.var()"
   ]
  },
  {
   "cell_type": "code",
   "execution_count": 26,
   "metadata": {},
   "outputs": [
    {
     "data": {
      "text/plain": [
       "0.5436399948811714"
      ]
     },
     "execution_count": 26,
     "metadata": {},
     "output_type": "execute_result"
    }
   ],
   "source": [
    "russell.Close.skew()"
   ]
  },
  {
   "cell_type": "code",
   "execution_count": 27,
   "metadata": {},
   "outputs": [
    {
     "data": {
      "text/plain": [
       "3219105.3211279996"
      ]
     },
     "execution_count": 27,
     "metadata": {},
     "output_type": "execute_result"
    }
   ],
   "source": [
    "russell.Adj_Close.sum()"
   ]
  },
  {
   "cell_type": "code",
   "execution_count": 28,
   "metadata": {},
   "outputs": [
    {
     "data": {
      "text/plain": [
       "Date\n",
       "2017-10-03           3,216,085.47\n",
       "2017-10-04           3,217,593.23\n",
       "2017-10-05           3,219,105.32\n",
       "Name: Close, dtype: float64"
      ]
     },
     "execution_count": 28,
     "metadata": {},
     "output_type": "execute_result"
    }
   ],
   "source": [
    "russell.Close.cumsum().tail(3)"
   ]
  },
  {
   "cell_type": "code",
   "execution_count": 29,
   "metadata": {},
   "outputs": [
    {
     "data": {
      "text/html": [
       "<div>\n",
       "<style scoped>\n",
       "    .dataframe tbody tr th:only-of-type {\n",
       "        vertical-align: middle;\n",
       "    }\n",
       "\n",
       "    .dataframe tbody tr th {\n",
       "        vertical-align: top;\n",
       "    }\n",
       "\n",
       "    .dataframe thead th {\n",
       "        text-align: right;\n",
       "    }\n",
       "</style>\n",
       "<table border=\"1\" class=\"dataframe\">\n",
       "  <thead>\n",
       "    <tr style=\"text-align: right;\">\n",
       "      <th></th>\n",
       "      <th></th>\n",
       "      <th>Open</th>\n",
       "      <th>High</th>\n",
       "      <th>Low</th>\n",
       "      <th>Volume</th>\n",
       "      <th>252_day_average</th>\n",
       "    </tr>\n",
       "    <tr>\n",
       "      <th>Adj_Close</th>\n",
       "      <th>Close</th>\n",
       "      <th></th>\n",
       "      <th></th>\n",
       "      <th></th>\n",
       "      <th></th>\n",
       "      <th></th>\n",
       "    </tr>\n",
       "  </thead>\n",
       "  <tbody>\n",
       "    <tr>\n",
       "      <th>327.04</th>\n",
       "      <th>327.04</th>\n",
       "      <td>340.32</td>\n",
       "      <td>340.32</td>\n",
       "      <td>326.88</td>\n",
       "      <td>18,850,300.00</td>\n",
       "      <td>339.02</td>\n",
       "    </tr>\n",
       "    <tr>\n",
       "      <th>336.18</th>\n",
       "      <th>336.18</th>\n",
       "      <td>327.04</td>\n",
       "      <td>336.18</td>\n",
       "      <td>324.90</td>\n",
       "      <td>20,902,300.00</td>\n",
       "      <td>325.71</td>\n",
       "    </tr>\n",
       "    <tr>\n",
       "      <th>338.29</th>\n",
       "      <th>338.29</th>\n",
       "      <td>347.98</td>\n",
       "      <td>347.98</td>\n",
       "      <td>337.57</td>\n",
       "      <td>15,765,000.00</td>\n",
       "      <td>346.64</td>\n",
       "    </tr>\n",
       "    <tr>\n",
       "      <th>340.32</th>\n",
       "      <th>340.32</th>\n",
       "      <td>338.29</td>\n",
       "      <td>341.04</td>\n",
       "      <td>333.77</td>\n",
       "      <td>19,384,300.00</td>\n",
       "      <td>336.94</td>\n",
       "    </tr>\n",
       "    <tr>\n",
       "      <th>343.26</th>\n",
       "      <th>343.26</th>\n",
       "      <td>348.85</td>\n",
       "      <td>355.05</td>\n",
       "      <td>342.59</td>\n",
       "      <td>72,773,200.00</td>\n",
       "      <td>347.49</td>\n",
       "    </tr>\n",
       "  </tbody>\n",
       "</table>\n",
       "</div>"
      ],
      "text/plain": [
       "                                 Open                 High  \\\n",
       "Adj_Close Close                                              \n",
       "327.04    327.04               340.32               340.32   \n",
       "336.18    336.18               327.04               336.18   \n",
       "338.29    338.29               347.98               347.98   \n",
       "340.32    340.32               338.29               341.04   \n",
       "343.26    343.26               348.85               355.05   \n",
       "\n",
       "                                  Low               Volume  \\\n",
       "Adj_Close Close                                              \n",
       "327.04    327.04               326.88        18,850,300.00   \n",
       "336.18    336.18               324.90        20,902,300.00   \n",
       "338.29    338.29               337.57        15,765,000.00   \n",
       "340.32    340.32               333.77        19,384,300.00   \n",
       "343.26    343.26               342.59        72,773,200.00   \n",
       "\n",
       "                      252_day_average  \n",
       "Adj_Close Close                        \n",
       "327.04    327.04               339.02  \n",
       "336.18    336.18               325.71  \n",
       "338.29    338.29               346.64  \n",
       "340.32    340.32               336.94  \n",
       "343.26    343.26               347.49  "
      ]
     },
     "execution_count": 29,
     "metadata": {},
     "output_type": "execute_result"
    }
   ],
   "source": [
    "russell.groupby(['Adj_Close','Close']).mean().head()"
   ]
  },
  {
   "cell_type": "code",
   "execution_count": 30,
   "metadata": {},
   "outputs": [
    {
     "data": {
      "text/plain": [
       "Date\n",
       "2001-10-05    True\n",
       "2001-10-08    True\n",
       "2001-10-09    True\n",
       "2001-10-10    True\n",
       "2001-10-11    True\n",
       "Name: High, dtype: bool"
      ]
     },
     "execution_count": 30,
     "metadata": {},
     "output_type": "execute_result"
    }
   ],
   "source": [
    "search = russell['High'] < 1000\n",
    "search.head()"
   ]
  },
  {
   "cell_type": "code",
   "execution_count": 35,
   "metadata": {},
   "outputs": [],
   "source": [
    "russell['Log Return'] = np.log(russell['Adj_Close'] / russell['Adj_Close'].shift(1))"
   ]
  },
  {
   "cell_type": "code",
   "execution_count": 36,
   "metadata": {},
   "outputs": [
    {
     "data": {
      "image/png": "[encoded data removed]",
      "text/plain": [
       "<matplotlib.figure.Figure at 0xf00e6a0>"
      ]
     },
     "metadata": {},
     "output_type": "display_data"
    }
   ],
   "source": [
    "russell[['Adj_Close','Log Return']].plot(subplots = True, style = 'b', grid = True, lw = 1.1, alpha = 0.7,\n",
    "                                  legend = 'best', figsize = (10, 7))\n",
    "plt.show()"
   ]
  }
 ],
 "metadata": {
  "kernelspec": {
   "display_name": "Python 3",
   "language": "python",
   "name": "python3"
  },
  "language_info": {
   "codemirror_mode": {
    "name": "ipython",
    "version": 3
   },
   "file_extension": ".py",
   "mimetype": "text/x-python",
   "name": "python",
   "nbconvert_exporter": "python",
   "pygments_lexer": "ipython3",
   "version": "3.6.3"
  }
 },
 "nbformat": 4,
 "nbformat_minor": 1
}
